{
 "cells": [
  {
   "cell_type": "markdown",
   "id": "aa63e36b",
   "metadata": {
    "papermill": {
     "duration": 0.039647,
     "end_time": "2021-12-05T05:22:18.496611",
     "exception": false,
     "start_time": "2021-12-05T05:22:18.456964",
     "status": "completed"
    },
    "tags": []
   },
   "source": [
    "# **Introduction**\n",
    "Predictive models are often used by investors to decide whether a budding business would be profitable in their domain. The success of a new restaurant can be similarly predicted based on past data relating to the location and services offered. We will develop a predictor model to find out the popularity and success a new restaurant can generate with an extensive study. This study aims to offer huge insights on which factors determine the success of a new restaurant and predict ratings for newer restaurants"
   ]
  },
  {
   "cell_type": "code",
   "execution_count": 1,
   "id": "e23fdfad",
   "metadata": {
    "_cell_guid": "b1076dfc-b9ad-4769-8c92-a6c4dae69d19",
    "_uuid": "8f2839f25d086af736a60e9eeb907d3b93b6e0e5",
    "execution": {
     "iopub.execute_input": "2021-12-05T05:22:18.587468Z",
     "iopub.status.busy": "2021-12-05T05:22:18.586794Z",
     "iopub.status.idle": "2021-12-05T05:22:19.939424Z",
     "shell.execute_reply": "2021-12-05T05:22:19.938727Z",
     "shell.execute_reply.started": "2021-12-04T14:48:10.191648Z"
    },
    "papermill": {
     "duration": 1.404123,
     "end_time": "2021-12-05T05:22:19.939620",
     "exception": false,
     "start_time": "2021-12-05T05:22:18.535497",
     "status": "completed"
    },
    "tags": []
   },
   "outputs": [],
   "source": [
    "#Importing Libraries\n",
    "import numpy as np #NumPy is a general-purpose array-processing package.\n",
    "import pandas as pd #It contains high-level data structures and manipulation tools designed to make data analysis fast and easy.\n",
    "import matplotlib.pyplot as plt #It is a Plotting Library\n",
    "import seaborn as sns #Seaborn is a Python data visualization library based on matplotlib.\n",
    "from sklearn.linear_model import LogisticRegression #Logistic Regression is a Machine Learning classification algorithm\n",
    "from sklearn.linear_model import LinearRegression #Linear Regression is a Machine Learning classification algorithm\n",
    "from sklearn.model_selection import train_test_split #Splitting of Dataset\n",
    "from sklearn.metrics import classification_report \n",
    "from sklearn.metrics import confusion_matrix\n",
    "from sklearn.metrics import r2_score\n",
    "\n",
    "# You can write up to 20GB to the current directory (/kaggle/working/) that gets preserved as output when you create a version using \"Save & Run All\" \n",
    "# You can also write temporary files to /kaggle/temp/, but they won't be saved outside of the current session"
   ]
  },
  {
   "cell_type": "code",
   "execution_count": 2,
   "id": "4904d4dd",
   "metadata": {
    "execution": {
     "iopub.execute_input": "2021-12-05T05:22:20.023885Z",
     "iopub.status.busy": "2021-12-05T05:22:20.023198Z",
     "iopub.status.idle": "2021-12-05T05:22:31.575938Z",
     "shell.execute_reply": "2021-12-05T05:22:31.575315Z",
     "shell.execute_reply.started": "2021-12-04T14:48:11.405283Z"
    },
    "papermill": {
     "duration": 11.597494,
     "end_time": "2021-12-05T05:22:31.576122",
     "exception": false,
     "start_time": "2021-12-05T05:22:19.978628",
     "status": "completed"
    },
    "tags": []
   },
   "outputs": [
    {
     "data": {
      "text/html": [
       "<div>\n",
       "<style scoped>\n",
       "    .dataframe tbody tr th:only-of-type {\n",
       "        vertical-align: middle;\n",
       "    }\n",
       "\n",
       "    .dataframe tbody tr th {\n",
       "        vertical-align: top;\n",
       "    }\n",
       "\n",
       "    .dataframe thead th {\n",
       "        text-align: right;\n",
       "    }\n",
       "</style>\n",
       "<table border=\"1\" class=\"dataframe\">\n",
       "  <thead>\n",
       "    <tr style=\"text-align: right;\">\n",
       "      <th></th>\n",
       "      <th>url</th>\n",
       "      <th>address</th>\n",
       "      <th>name</th>\n",
       "      <th>online_order</th>\n",
       "      <th>book_table</th>\n",
       "      <th>rate</th>\n",
       "      <th>votes</th>\n",
       "      <th>phone</th>\n",
       "      <th>location</th>\n",
       "      <th>rest_type</th>\n",
       "      <th>dish_liked</th>\n",
       "      <th>cuisines</th>\n",
       "      <th>approx_cost(for two people)</th>\n",
       "      <th>reviews_list</th>\n",
       "      <th>menu_item</th>\n",
       "      <th>listed_in(type)</th>\n",
       "      <th>listed_in(city)</th>\n",
       "    </tr>\n",
       "  </thead>\n",
       "  <tbody>\n",
       "    <tr>\n",
       "      <th>0</th>\n",
       "      <td>https://www.zomato.com/bangalore/jalsa-banasha...</td>\n",
       "      <td>942, 21st Main Road, 2nd Stage, Banashankari, ...</td>\n",
       "      <td>Jalsa</td>\n",
       "      <td>Yes</td>\n",
       "      <td>Yes</td>\n",
       "      <td>4.1/5</td>\n",
       "      <td>775</td>\n",
       "      <td>080 42297555\\r\\n+91 9743772233</td>\n",
       "      <td>Banashankari</td>\n",
       "      <td>Casual Dining</td>\n",
       "      <td>Pasta, Lunch Buffet, Masala Papad, Paneer Laja...</td>\n",
       "      <td>North Indian, Mughlai, Chinese</td>\n",
       "      <td>800</td>\n",
       "      <td>[('Rated 4.0', 'RATED\\n  A beautiful place to ...</td>\n",
       "      <td>[]</td>\n",
       "      <td>Buffet</td>\n",
       "      <td>Banashankari</td>\n",
       "    </tr>\n",
       "    <tr>\n",
       "      <th>1</th>\n",
       "      <td>https://www.zomato.com/bangalore/spice-elephan...</td>\n",
       "      <td>2nd Floor, 80 Feet Road, Near Big Bazaar, 6th ...</td>\n",
       "      <td>Spice Elephant</td>\n",
       "      <td>Yes</td>\n",
       "      <td>No</td>\n",
       "      <td>4.1/5</td>\n",
       "      <td>787</td>\n",
       "      <td>080 41714161</td>\n",
       "      <td>Banashankari</td>\n",
       "      <td>Casual Dining</td>\n",
       "      <td>Momos, Lunch Buffet, Chocolate Nirvana, Thai G...</td>\n",
       "      <td>Chinese, North Indian, Thai</td>\n",
       "      <td>800</td>\n",
       "      <td>[('Rated 4.0', 'RATED\\n  Had been here for din...</td>\n",
       "      <td>[]</td>\n",
       "      <td>Buffet</td>\n",
       "      <td>Banashankari</td>\n",
       "    </tr>\n",
       "    <tr>\n",
       "      <th>2</th>\n",
       "      <td>https://www.zomato.com/SanchurroBangalore?cont...</td>\n",
       "      <td>1112, Next to KIMS Medical College, 17th Cross...</td>\n",
       "      <td>San Churro Cafe</td>\n",
       "      <td>Yes</td>\n",
       "      <td>No</td>\n",
       "      <td>3.8/5</td>\n",
       "      <td>918</td>\n",
       "      <td>+91 9663487993</td>\n",
       "      <td>Banashankari</td>\n",
       "      <td>Cafe, Casual Dining</td>\n",
       "      <td>Churros, Cannelloni, Minestrone Soup, Hot Choc...</td>\n",
       "      <td>Cafe, Mexican, Italian</td>\n",
       "      <td>800</td>\n",
       "      <td>[('Rated 3.0', \"RATED\\n  Ambience is not that ...</td>\n",
       "      <td>[]</td>\n",
       "      <td>Buffet</td>\n",
       "      <td>Banashankari</td>\n",
       "    </tr>\n",
       "    <tr>\n",
       "      <th>3</th>\n",
       "      <td>https://www.zomato.com/bangalore/addhuri-udupi...</td>\n",
       "      <td>1st Floor, Annakuteera, 3rd Stage, Banashankar...</td>\n",
       "      <td>Addhuri Udupi Bhojana</td>\n",
       "      <td>No</td>\n",
       "      <td>No</td>\n",
       "      <td>3.7/5</td>\n",
       "      <td>88</td>\n",
       "      <td>+91 9620009302</td>\n",
       "      <td>Banashankari</td>\n",
       "      <td>Quick Bites</td>\n",
       "      <td>Masala Dosa</td>\n",
       "      <td>South Indian, North Indian</td>\n",
       "      <td>300</td>\n",
       "      <td>[('Rated 4.0', \"RATED\\n  Great food and proper...</td>\n",
       "      <td>[]</td>\n",
       "      <td>Buffet</td>\n",
       "      <td>Banashankari</td>\n",
       "    </tr>\n",
       "    <tr>\n",
       "      <th>4</th>\n",
       "      <td>https://www.zomato.com/bangalore/grand-village...</td>\n",
       "      <td>10, 3rd Floor, Lakshmi Associates, Gandhi Baza...</td>\n",
       "      <td>Grand Village</td>\n",
       "      <td>No</td>\n",
       "      <td>No</td>\n",
       "      <td>3.8/5</td>\n",
       "      <td>166</td>\n",
       "      <td>+91 8026612447\\r\\n+91 9901210005</td>\n",
       "      <td>Basavanagudi</td>\n",
       "      <td>Casual Dining</td>\n",
       "      <td>Panipuri, Gol Gappe</td>\n",
       "      <td>North Indian, Rajasthani</td>\n",
       "      <td>600</td>\n",
       "      <td>[('Rated 4.0', 'RATED\\n  Very good restaurant ...</td>\n",
       "      <td>[]</td>\n",
       "      <td>Buffet</td>\n",
       "      <td>Banashankari</td>\n",
       "    </tr>\n",
       "  </tbody>\n",
       "</table>\n",
       "</div>"
      ],
      "text/plain": [
       "                                                 url  \\\n",
       "0  https://www.zomato.com/bangalore/jalsa-banasha...   \n",
       "1  https://www.zomato.com/bangalore/spice-elephan...   \n",
       "2  https://www.zomato.com/SanchurroBangalore?cont...   \n",
       "3  https://www.zomato.com/bangalore/addhuri-udupi...   \n",
       "4  https://www.zomato.com/bangalore/grand-village...   \n",
       "\n",
       "                                             address                   name  \\\n",
       "0  942, 21st Main Road, 2nd Stage, Banashankari, ...                  Jalsa   \n",
       "1  2nd Floor, 80 Feet Road, Near Big Bazaar, 6th ...         Spice Elephant   \n",
       "2  1112, Next to KIMS Medical College, 17th Cross...        San Churro Cafe   \n",
       "3  1st Floor, Annakuteera, 3rd Stage, Banashankar...  Addhuri Udupi Bhojana   \n",
       "4  10, 3rd Floor, Lakshmi Associates, Gandhi Baza...          Grand Village   \n",
       "\n",
       "  online_order book_table   rate  votes                             phone  \\\n",
       "0          Yes        Yes  4.1/5    775    080 42297555\\r\\n+91 9743772233   \n",
       "1          Yes         No  4.1/5    787                      080 41714161   \n",
       "2          Yes         No  3.8/5    918                    +91 9663487993   \n",
       "3           No         No  3.7/5     88                    +91 9620009302   \n",
       "4           No         No  3.8/5    166  +91 8026612447\\r\\n+91 9901210005   \n",
       "\n",
       "       location            rest_type  \\\n",
       "0  Banashankari        Casual Dining   \n",
       "1  Banashankari        Casual Dining   \n",
       "2  Banashankari  Cafe, Casual Dining   \n",
       "3  Banashankari          Quick Bites   \n",
       "4  Basavanagudi        Casual Dining   \n",
       "\n",
       "                                          dish_liked  \\\n",
       "0  Pasta, Lunch Buffet, Masala Papad, Paneer Laja...   \n",
       "1  Momos, Lunch Buffet, Chocolate Nirvana, Thai G...   \n",
       "2  Churros, Cannelloni, Minestrone Soup, Hot Choc...   \n",
       "3                                        Masala Dosa   \n",
       "4                                Panipuri, Gol Gappe   \n",
       "\n",
       "                         cuisines approx_cost(for two people)  \\\n",
       "0  North Indian, Mughlai, Chinese                         800   \n",
       "1     Chinese, North Indian, Thai                         800   \n",
       "2          Cafe, Mexican, Italian                         800   \n",
       "3      South Indian, North Indian                         300   \n",
       "4        North Indian, Rajasthani                         600   \n",
       "\n",
       "                                        reviews_list menu_item  \\\n",
       "0  [('Rated 4.0', 'RATED\\n  A beautiful place to ...        []   \n",
       "1  [('Rated 4.0', 'RATED\\n  Had been here for din...        []   \n",
       "2  [('Rated 3.0', \"RATED\\n  Ambience is not that ...        []   \n",
       "3  [('Rated 4.0', \"RATED\\n  Great food and proper...        []   \n",
       "4  [('Rated 4.0', 'RATED\\n  Very good restaurant ...        []   \n",
       "\n",
       "  listed_in(type) listed_in(city)  \n",
       "0          Buffet    Banashankari  \n",
       "1          Buffet    Banashankari  \n",
       "2          Buffet    Banashankari  \n",
       "3          Buffet    Banashankari  \n",
       "4          Buffet    Banashankari  "
      ]
     },
     "execution_count": 2,
     "metadata": {},
     "output_type": "execute_result"
    }
   ],
   "source": [
    "df = pd.read_csv('../input/zomato-bangalore-restaurants/zomato.csv')\n",
    "df.head()"
   ]
  },
  {
   "cell_type": "code",
   "execution_count": 3,
   "id": "fe38ed34",
   "metadata": {
    "execution": {
     "iopub.execute_input": "2021-12-05T05:22:31.663429Z",
     "iopub.status.busy": "2021-12-05T05:22:31.662447Z",
     "iopub.status.idle": "2021-12-05T05:22:31.668447Z",
     "shell.execute_reply": "2021-12-05T05:22:31.667854Z",
     "shell.execute_reply.started": "2021-12-04T14:48:24.414162Z"
    },
    "papermill": {
     "duration": 0.050804,
     "end_time": "2021-12-05T05:22:31.668629",
     "exception": false,
     "start_time": "2021-12-05T05:22:31.617825",
     "status": "completed"
    },
    "tags": []
   },
   "outputs": [
    {
     "data": {
      "text/plain": [
       "(51717, 17)"
      ]
     },
     "execution_count": 3,
     "metadata": {},
     "output_type": "execute_result"
    }
   ],
   "source": [
    "df.shape"
   ]
  },
  {
   "cell_type": "markdown",
   "id": "473952d1",
   "metadata": {
    "papermill": {
     "duration": 0.039348,
     "end_time": "2021-12-05T05:22:31.747718",
     "exception": false,
     "start_time": "2021-12-05T05:22:31.708370",
     "status": "completed"
    },
    "tags": []
   },
   "source": [
    "# **EDA and Cleaning**"
   ]
  },
  {
   "cell_type": "code",
   "execution_count": 4,
   "id": "6d4a64dd",
   "metadata": {
    "execution": {
     "iopub.execute_input": "2021-12-05T05:22:31.934434Z",
     "iopub.status.busy": "2021-12-05T05:22:31.933732Z",
     "iopub.status.idle": "2021-12-05T05:22:31.958908Z",
     "shell.execute_reply": "2021-12-05T05:22:31.958328Z",
     "shell.execute_reply.started": "2021-12-04T14:48:27.45897Z"
    },
    "papermill": {
     "duration": 0.169728,
     "end_time": "2021-12-05T05:22:31.959076",
     "exception": false,
     "start_time": "2021-12-05T05:22:31.789348",
     "status": "completed"
    },
    "tags": []
   },
   "outputs": [
    {
     "name": "stdout",
     "output_type": "stream",
     "text": [
      "<class 'pandas.core.frame.DataFrame'>\n",
      "RangeIndex: 51717 entries, 0 to 51716\n",
      "Data columns (total 17 columns):\n",
      " #   Column                       Non-Null Count  Dtype \n",
      "---  ------                       --------------  ----- \n",
      " 0   url                          51717 non-null  object\n",
      " 1   address                      51717 non-null  object\n",
      " 2   name                         51717 non-null  object\n",
      " 3   online_order                 51717 non-null  object\n",
      " 4   book_table                   51717 non-null  object\n",
      " 5   rate                         43942 non-null  object\n",
      " 6   votes                        51717 non-null  int64 \n",
      " 7   phone                        50509 non-null  object\n",
      " 8   location                     51696 non-null  object\n",
      " 9   rest_type                    51490 non-null  object\n",
      " 10  dish_liked                   23639 non-null  object\n",
      " 11  cuisines                     51672 non-null  object\n",
      " 12  approx_cost(for two people)  51371 non-null  object\n",
      " 13  reviews_list                 51717 non-null  object\n",
      " 14  menu_item                    51717 non-null  object\n",
      " 15  listed_in(type)              51717 non-null  object\n",
      " 16  listed_in(city)              51717 non-null  object\n",
      "dtypes: int64(1), object(16)\n",
      "memory usage: 6.7+ MB\n"
     ]
    }
   ],
   "source": [
    "df.info()"
   ]
  },
  {
   "cell_type": "code",
   "execution_count": 5,
   "id": "5cc3d2fa",
   "metadata": {
    "execution": {
     "iopub.execute_input": "2021-12-05T05:22:32.139333Z",
     "iopub.status.busy": "2021-12-05T05:22:32.138647Z",
     "iopub.status.idle": "2021-12-05T05:22:32.147061Z",
     "shell.execute_reply": "2021-12-05T05:22:32.146447Z",
     "shell.execute_reply.started": "2021-12-04T14:48:28.074983Z"
    },
    "papermill": {
     "duration": 0.147168,
     "end_time": "2021-12-05T05:22:32.147218",
     "exception": false,
     "start_time": "2021-12-05T05:22:32.000050",
     "status": "completed"
    },
    "tags": []
   },
   "outputs": [
    {
     "data": {
      "text/plain": [
       "url                                0\n",
       "address                            0\n",
       "name                               0\n",
       "online_order                       0\n",
       "book_table                         0\n",
       "rate                            7775\n",
       "votes                              0\n",
       "phone                           1208\n",
       "location                          21\n",
       "rest_type                        227\n",
       "dish_liked                     28078\n",
       "cuisines                          45\n",
       "approx_cost(for two people)      346\n",
       "reviews_list                       0\n",
       "menu_item                          0\n",
       "listed_in(type)                    0\n",
       "listed_in(city)                    0\n",
       "dtype: int64"
      ]
     },
     "execution_count": 5,
     "metadata": {},
     "output_type": "execute_result"
    }
   ],
   "source": [
    "df.isna().sum()"
   ]
  },
  {
   "cell_type": "code",
   "execution_count": 6,
   "id": "652c29ea",
   "metadata": {
    "execution": {
     "iopub.execute_input": "2021-12-05T05:22:32.240049Z",
     "iopub.status.busy": "2021-12-05T05:22:32.233944Z",
     "iopub.status.idle": "2021-12-05T05:22:32.242953Z",
     "shell.execute_reply": "2021-12-05T05:22:32.243428Z",
     "shell.execute_reply.started": "2021-12-04T14:48:28.710779Z"
    },
    "papermill": {
     "duration": 0.055269,
     "end_time": "2021-12-05T05:22:32.243653",
     "exception": false,
     "start_time": "2021-12-05T05:22:32.188384",
     "status": "completed"
    },
    "tags": []
   },
   "outputs": [],
   "source": [
    "#dropping irrelevant columns\n",
    "zomato=df.drop(['url','address','phone','dish_liked', 'menu_item', 'reviews_list'],axis=1) "
   ]
  },
  {
   "cell_type": "code",
   "execution_count": 7,
   "id": "cc7b7728",
   "metadata": {
    "execution": {
     "iopub.execute_input": "2021-12-05T05:22:32.330323Z",
     "iopub.status.busy": "2021-12-05T05:22:32.329402Z",
     "iopub.status.idle": "2021-12-05T05:22:32.463747Z",
     "shell.execute_reply": "2021-12-05T05:22:32.463133Z",
     "shell.execute_reply.started": "2021-12-04T14:48:29.354841Z"
    },
    "papermill": {
     "duration": 0.180424,
     "end_time": "2021-12-05T05:22:32.463902",
     "exception": false,
     "start_time": "2021-12-05T05:22:32.283478",
     "status": "completed"
    },
    "tags": []
   },
   "outputs": [],
   "source": [
    "#Removing the Duplicates\n",
    "zomato.duplicated().sum()\n",
    "zomato.drop_duplicates(inplace=True)"
   ]
  },
  {
   "cell_type": "code",
   "execution_count": 8,
   "id": "794662ed",
   "metadata": {
    "execution": {
     "iopub.execute_input": "2021-12-05T05:22:32.605551Z",
     "iopub.status.busy": "2021-12-05T05:22:32.604566Z",
     "iopub.status.idle": "2021-12-05T05:22:32.728298Z",
     "shell.execute_reply": "2021-12-05T05:22:32.729451Z",
     "shell.execute_reply.started": "2021-12-04T14:48:30.477732Z"
    },
    "papermill": {
     "duration": 0.225961,
     "end_time": "2021-12-05T05:22:32.729708",
     "exception": false,
     "start_time": "2021-12-05T05:22:32.503747",
     "status": "completed"
    },
    "tags": []
   },
   "outputs": [
    {
     "name": "stdout",
     "output_type": "stream",
     "text": [
      "<class 'pandas.core.frame.DataFrame'>\n",
      "Int64Index: 43447 entries, 0 to 51716\n",
      "Data columns (total 11 columns):\n",
      " #   Column                       Non-Null Count  Dtype \n",
      "---  ------                       --------------  ----- \n",
      " 0   name                         43447 non-null  object\n",
      " 1   online_order                 43447 non-null  object\n",
      " 2   book_table                   43447 non-null  object\n",
      " 3   rate                         43447 non-null  object\n",
      " 4   votes                        43447 non-null  int64 \n",
      " 5   location                     43447 non-null  object\n",
      " 6   rest_type                    43447 non-null  object\n",
      " 7   cuisines                     43447 non-null  object\n",
      " 8   approx_cost(for two people)  43447 non-null  object\n",
      " 9   listed_in(type)              43447 non-null  object\n",
      " 10  listed_in(city)              43447 non-null  object\n",
      "dtypes: int64(1), object(10)\n",
      "memory usage: 4.0+ MB\n"
     ]
    }
   ],
   "source": [
    "#Remove the NaN values from the dataset\n",
    "zomato.isnull().sum()\n",
    "zomato.dropna(how='any',inplace=True)\n",
    "zomato.info()"
   ]
  },
  {
   "cell_type": "code",
   "execution_count": 9,
   "id": "ecfa604d",
   "metadata": {
    "execution": {
     "iopub.execute_input": "2021-12-05T05:22:32.819837Z",
     "iopub.status.busy": "2021-12-05T05:22:32.819083Z",
     "iopub.status.idle": "2021-12-05T05:22:32.829146Z",
     "shell.execute_reply": "2021-12-05T05:22:32.828438Z",
     "shell.execute_reply.started": "2021-12-04T14:48:31.230004Z"
    },
    "papermill": {
     "duration": 0.056654,
     "end_time": "2021-12-05T05:22:32.829311",
     "exception": false,
     "start_time": "2021-12-05T05:22:32.772657",
     "status": "completed"
    },
    "tags": []
   },
   "outputs": [
    {
     "data": {
      "text/plain": [
       "Index(['name', 'online_order', 'book_table', 'rating', 'votes', 'location',\n",
       "       'rest_type', 'cuisines', 'cost', 'type', 'city'],\n",
       "      dtype='object')"
      ]
     },
     "execution_count": 9,
     "metadata": {},
     "output_type": "execute_result"
    }
   ],
   "source": [
    "#Changing the Columns Names\n",
    "zomato.columns\n",
    "zomato = zomato.rename(columns={'approx_cost(for two people)':'cost','listed_in(type)':'type',\n",
    "                                  'listed_in(city)':'city', 'rate':'rating'})\n",
    "zomato.columns"
   ]
  },
  {
   "cell_type": "code",
   "execution_count": 10,
   "id": "9e09716c",
   "metadata": {
    "execution": {
     "iopub.execute_input": "2021-12-05T05:22:32.918963Z",
     "iopub.status.busy": "2021-12-05T05:22:32.917938Z",
     "iopub.status.idle": "2021-12-05T05:22:33.004873Z",
     "shell.execute_reply": "2021-12-05T05:22:33.004274Z",
     "shell.execute_reply.started": "2021-12-04T14:48:31.925573Z"
    },
    "papermill": {
     "duration": 0.13473,
     "end_time": "2021-12-05T05:22:33.005042",
     "exception": false,
     "start_time": "2021-12-05T05:22:32.870312",
     "status": "completed"
    },
    "tags": []
   },
   "outputs": [
    {
     "name": "stdout",
     "output_type": "stream",
     "text": [
      "<class 'pandas.core.frame.DataFrame'>\n",
      "Int64Index: 43447 entries, 0 to 51716\n",
      "Data columns (total 11 columns):\n",
      " #   Column        Non-Null Count  Dtype  \n",
      "---  ------        --------------  -----  \n",
      " 0   name          43447 non-null  object \n",
      " 1   online_order  43447 non-null  object \n",
      " 2   book_table    43447 non-null  object \n",
      " 3   rating        43447 non-null  object \n",
      " 4   votes         43447 non-null  int64  \n",
      " 5   location      43447 non-null  object \n",
      " 6   rest_type     43447 non-null  object \n",
      " 7   cuisines      43447 non-null  object \n",
      " 8   cost          43447 non-null  float64\n",
      " 9   type          43447 non-null  object \n",
      " 10  city          43447 non-null  object \n",
      "dtypes: float64(1), int64(1), object(9)\n",
      "memory usage: 4.0+ MB\n"
     ]
    }
   ],
   "source": [
    "#Some Transformations\n",
    "zomato['cost'] = zomato['cost'].astype(str)\n",
    "zomato['cost'] = zomato['cost'].apply(lambda x: x.replace(',','.'))\n",
    "zomato['cost'] = zomato['cost'].astype(float)\n",
    "zomato.info()"
   ]
  },
  {
   "cell_type": "code",
   "execution_count": 11,
   "id": "30cded15",
   "metadata": {
    "execution": {
     "iopub.execute_input": "2021-12-05T05:22:33.093132Z",
     "iopub.status.busy": "2021-12-05T05:22:33.092426Z",
     "iopub.status.idle": "2021-12-05T05:22:33.194583Z",
     "shell.execute_reply": "2021-12-05T05:22:33.194031Z",
     "shell.execute_reply.started": "2021-12-04T14:48:32.915872Z"
    },
    "papermill": {
     "duration": 0.148383,
     "end_time": "2021-12-05T05:22:33.194732",
     "exception": false,
     "start_time": "2021-12-05T05:22:33.046349",
     "status": "completed"
    },
    "tags": []
   },
   "outputs": [
    {
     "data": {
      "text/plain": [
       "0    4.1\n",
       "1    4.1\n",
       "2    3.8\n",
       "3    3.7\n",
       "4    3.8\n",
       "Name: rating, dtype: float64"
      ]
     },
     "execution_count": 11,
     "metadata": {},
     "output_type": "execute_result"
    }
   ],
   "source": [
    "#Removing '/5' from Rates\n",
    "zomato['rating'].unique()\n",
    "zomato = zomato.loc[zomato.rating !='NEW']\n",
    "zomato = zomato.loc[zomato.rating !='-'].reset_index(drop=True)\n",
    "remove_slash = lambda x: x.replace('/5', '') if type(x) == np.str else x\n",
    "zomato.rating = zomato.rating.apply(remove_slash).str.strip().astype('float')\n",
    "zomato['rating'].head()"
   ]
  },
  {
   "cell_type": "code",
   "execution_count": 12,
   "id": "e771dcd1",
   "metadata": {
    "execution": {
     "iopub.execute_input": "2021-12-05T05:22:33.280810Z",
     "iopub.status.busy": "2021-12-05T05:22:33.280132Z",
     "iopub.status.idle": "2021-12-05T05:22:33.356195Z",
     "shell.execute_reply": "2021-12-05T05:22:33.355465Z",
     "shell.execute_reply.started": "2021-12-04T14:48:34.402529Z"
    },
    "papermill": {
     "duration": 0.120594,
     "end_time": "2021-12-05T05:22:33.356359",
     "exception": false,
     "start_time": "2021-12-05T05:22:33.235765",
     "status": "completed"
    },
    "tags": []
   },
   "outputs": [
    {
     "data": {
      "text/html": [
       "<div>\n",
       "<style scoped>\n",
       "    .dataframe tbody tr th:only-of-type {\n",
       "        vertical-align: middle;\n",
       "    }\n",
       "\n",
       "    .dataframe tbody tr th {\n",
       "        vertical-align: top;\n",
       "    }\n",
       "\n",
       "    .dataframe thead th {\n",
       "        text-align: right;\n",
       "    }\n",
       "</style>\n",
       "<table border=\"1\" class=\"dataframe\">\n",
       "  <thead>\n",
       "    <tr style=\"text-align: right;\">\n",
       "      <th></th>\n",
       "      <th>name</th>\n",
       "      <th>online_order</th>\n",
       "      <th>book_table</th>\n",
       "      <th>rating</th>\n",
       "      <th>votes</th>\n",
       "      <th>location</th>\n",
       "      <th>rest_type</th>\n",
       "      <th>cuisines</th>\n",
       "      <th>cost</th>\n",
       "      <th>type</th>\n",
       "      <th>city</th>\n",
       "    </tr>\n",
       "  </thead>\n",
       "  <tbody>\n",
       "    <tr>\n",
       "      <th>0</th>\n",
       "      <td>Jalsa</td>\n",
       "      <td>True</td>\n",
       "      <td>True</td>\n",
       "      <td>4.1</td>\n",
       "      <td>775</td>\n",
       "      <td>Banashankari</td>\n",
       "      <td>Casual Dining</td>\n",
       "      <td>North Indian, Mughlai, Chinese</td>\n",
       "      <td>800.0</td>\n",
       "      <td>Buffet</td>\n",
       "      <td>Banashankari</td>\n",
       "    </tr>\n",
       "    <tr>\n",
       "      <th>1</th>\n",
       "      <td>Spice Elephant</td>\n",
       "      <td>True</td>\n",
       "      <td>False</td>\n",
       "      <td>4.1</td>\n",
       "      <td>787</td>\n",
       "      <td>Banashankari</td>\n",
       "      <td>Casual Dining</td>\n",
       "      <td>Chinese, North Indian, Thai</td>\n",
       "      <td>800.0</td>\n",
       "      <td>Buffet</td>\n",
       "      <td>Banashankari</td>\n",
       "    </tr>\n",
       "    <tr>\n",
       "      <th>2</th>\n",
       "      <td>San Churro Cafe</td>\n",
       "      <td>True</td>\n",
       "      <td>False</td>\n",
       "      <td>3.8</td>\n",
       "      <td>918</td>\n",
       "      <td>Banashankari</td>\n",
       "      <td>Cafe, Casual Dining</td>\n",
       "      <td>Cafe, Mexican, Italian</td>\n",
       "      <td>800.0</td>\n",
       "      <td>Buffet</td>\n",
       "      <td>Banashankari</td>\n",
       "    </tr>\n",
       "    <tr>\n",
       "      <th>3</th>\n",
       "      <td>Addhuri Udupi Bhojana</td>\n",
       "      <td>False</td>\n",
       "      <td>False</td>\n",
       "      <td>3.7</td>\n",
       "      <td>88</td>\n",
       "      <td>Banashankari</td>\n",
       "      <td>Quick Bites</td>\n",
       "      <td>South Indian, North Indian</td>\n",
       "      <td>300.0</td>\n",
       "      <td>Buffet</td>\n",
       "      <td>Banashankari</td>\n",
       "    </tr>\n",
       "    <tr>\n",
       "      <th>4</th>\n",
       "      <td>Grand Village</td>\n",
       "      <td>False</td>\n",
       "      <td>False</td>\n",
       "      <td>3.8</td>\n",
       "      <td>166</td>\n",
       "      <td>Basavanagudi</td>\n",
       "      <td>Casual Dining</td>\n",
       "      <td>North Indian, Rajasthani</td>\n",
       "      <td>600.0</td>\n",
       "      <td>Buffet</td>\n",
       "      <td>Banashankari</td>\n",
       "    </tr>\n",
       "  </tbody>\n",
       "</table>\n",
       "</div>"
      ],
      "text/plain": [
       "                    name  online_order  book_table  rating  votes  \\\n",
       "0                  Jalsa          True        True     4.1    775   \n",
       "1         Spice Elephant          True       False     4.1    787   \n",
       "2        San Churro Cafe          True       False     3.8    918   \n",
       "3  Addhuri Udupi Bhojana         False       False     3.7     88   \n",
       "4          Grand Village         False       False     3.8    166   \n",
       "\n",
       "       location            rest_type                        cuisines   cost  \\\n",
       "0  Banashankari        Casual Dining  North Indian, Mughlai, Chinese  800.0   \n",
       "1  Banashankari        Casual Dining     Chinese, North Indian, Thai  800.0   \n",
       "2  Banashankari  Cafe, Casual Dining          Cafe, Mexican, Italian  800.0   \n",
       "3  Banashankari          Quick Bites      South Indian, North Indian  300.0   \n",
       "4  Basavanagudi        Casual Dining        North Indian, Rajasthani  600.0   \n",
       "\n",
       "     type          city  \n",
       "0  Buffet  Banashankari  \n",
       "1  Buffet  Banashankari  \n",
       "2  Buffet  Banashankari  \n",
       "3  Buffet  Banashankari  \n",
       "4  Buffet  Banashankari  "
      ]
     },
     "execution_count": 12,
     "metadata": {},
     "output_type": "execute_result"
    }
   ],
   "source": [
    "# Adjust the column names\n",
    "zomato.name = zomato.name.apply(lambda x:x.title())\n",
    "zomato.online_order.replace(('Yes','No'),(True, False),inplace=True)\n",
    "zomato.book_table.replace(('Yes','No'),(True, False),inplace=True)\n",
    "zomato.head()"
   ]
  },
  {
   "cell_type": "markdown",
   "id": "ca3fc8cd",
   "metadata": {
    "papermill": {
     "duration": 0.042736,
     "end_time": "2021-12-05T05:22:33.442108",
     "exception": false,
     "start_time": "2021-12-05T05:22:33.399372",
     "status": "completed"
    },
    "tags": []
   },
   "source": [
    "# **Visualization**"
   ]
  },
  {
   "cell_type": "markdown",
   "id": "5092b6cf",
   "metadata": {
    "papermill": {
     "duration": 0.041826,
     "end_time": "2021-12-05T05:22:33.526271",
     "exception": false,
     "start_time": "2021-12-05T05:22:33.484445",
     "status": "completed"
    },
    "tags": []
   },
   "source": [
    "**Top 10 most popular restaurant types**"
   ]
  },
  {
   "cell_type": "code",
   "execution_count": 13,
   "id": "34eeb31f",
   "metadata": {
    "execution": {
     "iopub.execute_input": "2021-12-05T05:22:33.626972Z",
     "iopub.status.busy": "2021-12-05T05:22:33.626198Z",
     "iopub.status.idle": "2021-12-05T05:22:33.964147Z",
     "shell.execute_reply": "2021-12-05T05:22:33.963461Z",
     "shell.execute_reply.started": "2021-12-04T14:48:36.808625Z"
    },
    "papermill": {
     "duration": 0.39546,
     "end_time": "2021-12-05T05:22:33.964325",
     "exception": false,
     "start_time": "2021-12-05T05:22:33.568865",
     "status": "completed"
    },
    "tags": []
   },
   "outputs": [
    {
     "data": {
      "text/plain": [
       "Text(0.5, 0, 'count')"
      ]
     },
     "execution_count": 13,
     "metadata": {},
     "output_type": "execute_result"
    },
    {
     "data": {
      "image/png": "[encoded data removed]",
      "text/plain": [
       "<Figure size 432x288 with 1 Axes>"
      ]
     },
     "metadata": {
      "needs_background": "light"
     },
     "output_type": "display_data"
    }
   ],
   "source": [
    "from collections import Counter\n",
    "r_type=zomato['rest_type'].value_counts()[:10]\n",
    "sns.barplot(x=r_type,y=r_type.index)\n",
    "plt.title(\"Most In-Demand Restaurant Types\")\n",
    "plt.xlabel(\"count\")"
   ]
  },
  {
   "cell_type": "markdown",
   "id": "3daa2fae",
   "metadata": {
    "papermill": {
     "duration": 0.044494,
     "end_time": "2021-12-05T05:22:34.054832",
     "exception": false,
     "start_time": "2021-12-05T05:22:34.010338",
     "status": "completed"
    },
    "tags": []
   },
   "source": [
    "**Proportion of Restaurants that provide online service**"
   ]
  },
  {
   "cell_type": "code",
   "execution_count": 14,
   "id": "7fe2d791",
   "metadata": {
    "execution": {
     "iopub.execute_input": "2021-12-05T05:22:34.149793Z",
     "iopub.status.busy": "2021-12-05T05:22:34.148884Z",
     "iopub.status.idle": "2021-12-05T05:22:34.261664Z",
     "shell.execute_reply": "2021-12-05T05:22:34.260979Z",
     "shell.execute_reply.started": "2021-12-04T14:48:39.737849Z"
    },
    "papermill": {
     "duration": 0.163913,
     "end_time": "2021-12-05T05:22:34.261831",
     "exception": false,
     "start_time": "2021-12-05T05:22:34.097918",
     "status": "completed"
    },
    "tags": []
   },
   "outputs": [
    {
     "data": {
      "text/plain": [
       "<matplotlib.patches.Circle at 0x7f78d0484890>"
      ]
     },
     "execution_count": 14,
     "metadata": {},
     "output_type": "execute_result"
    },
    {
     "data": {
      "image/png": "[encoded data removed]",
      "text/plain": [
       "<Figure size 432x288 with 1 Axes>"
      ]
     },
     "metadata": {},
     "output_type": "display_data"
    }
   ],
   "source": [
    "zomato.online_order.value_counts().plot(kind='pie')\n",
    "w_circle=plt.Circle((0,0),0.7,color='white')\n",
    "p=plt.gcf()\n",
    "p.gca().add_artist(w_circle)"
   ]
  },
  {
   "cell_type": "markdown",
   "id": "fc40aa6d",
   "metadata": {
    "papermill": {
     "duration": 0.044457,
     "end_time": "2021-12-05T05:22:34.350926",
     "exception": false,
     "start_time": "2021-12-05T05:22:34.306469",
     "status": "completed"
    },
    "tags": []
   },
   "source": [
    "**Proportion of restaurants that allow booking tables**"
   ]
  },
  {
   "cell_type": "code",
   "execution_count": 15,
   "id": "ccf25427",
   "metadata": {
    "execution": {
     "iopub.execute_input": "2021-12-05T05:22:34.475564Z",
     "iopub.status.busy": "2021-12-05T05:22:34.465102Z",
     "iopub.status.idle": "2021-12-05T05:22:34.540218Z",
     "shell.execute_reply": "2021-12-05T05:22:34.539699Z",
     "shell.execute_reply.started": "2021-12-04T14:48:41.677157Z"
    },
    "papermill": {
     "duration": 0.144284,
     "end_time": "2021-12-05T05:22:34.540388",
     "exception": false,
     "start_time": "2021-12-05T05:22:34.396104",
     "status": "completed"
    },
    "tags": []
   },
   "outputs": [
    {
     "data": {
      "text/plain": [
       "<matplotlib.patches.Circle at 0x7f78d03bf950>"
      ]
     },
     "execution_count": 15,
     "metadata": {},
     "output_type": "execute_result"
    },
    {
     "data": {
      "image/png": "[encoded data removed]",
      "text/plain": [
       "<Figure size 432x288 with 1 Axes>"
      ]
     },
     "metadata": {},
     "output_type": "display_data"
    }
   ],
   "source": [
    "zomato.book_table.value_counts().plot(kind='pie')\n",
    "w_circle=plt.Circle((0,0),0.7,color='white')\n",
    "p=plt.gcf()\n",
    "p.gca().add_artist(w_circle)"
   ]
  },
  {
   "cell_type": "markdown",
   "id": "55bcdc8e",
   "metadata": {
    "papermill": {
     "duration": 0.045271,
     "end_time": "2021-12-05T05:22:34.631453",
     "exception": false,
     "start_time": "2021-12-05T05:22:34.586182",
     "status": "completed"
    },
    "tags": []
   },
   "source": [
    "**Most popular restaurant chains**"
   ]
  },
  {
   "cell_type": "code",
   "execution_count": 16,
   "id": "1ae3fb6c",
   "metadata": {
    "execution": {
     "iopub.execute_input": "2021-12-05T05:22:34.729508Z",
     "iopub.status.busy": "2021-12-05T05:22:34.728807Z",
     "iopub.status.idle": "2021-12-05T05:22:34.990949Z",
     "shell.execute_reply": "2021-12-05T05:22:34.990329Z",
     "shell.execute_reply.started": "2021-12-04T14:48:43.525582Z"
    },
    "papermill": {
     "duration": 0.312259,
     "end_time": "2021-12-05T05:22:34.991121",
     "exception": false,
     "start_time": "2021-12-05T05:22:34.678862",
     "status": "completed"
    },
    "tags": []
   },
   "outputs": [
    {
     "data": {
      "text/plain": [
       "Text(0.5, 1.0, 'Top 10 Chain Restaurants')"
      ]
     },
     "execution_count": 16,
     "metadata": {},
     "output_type": "execute_result"
    },
    {
     "data": {
      "image/png": "[encoded data removed]",
      "text/plain": [
       "<Figure size 432x288 with 1 Axes>"
      ]
     },
     "metadata": {
      "needs_background": "light"
     },
     "output_type": "display_data"
    }
   ],
   "source": [
    "ax=df.name.value_counts()[:10].plot(kind='bar')\n",
    "plt.xlabel(\"Restaurant Name\")\n",
    "plt.ylabel(\"No. of branches\")\n",
    "plt.title(\"Top 10 Chain Restaurants\")"
   ]
  },
  {
   "cell_type": "markdown",
   "id": "5db35f9c",
   "metadata": {
    "papermill": {
     "duration": 0.047268,
     "end_time": "2021-12-05T05:22:35.085322",
     "exception": false,
     "start_time": "2021-12-05T05:22:35.038054",
     "status": "completed"
    },
    "tags": []
   },
   "source": [
    "**Impact of Online Ordering on Ratings**\n",
    "\n",
    "It can be seen from the chart below that restaurants that allow ordering online tend to have higher ratings"
   ]
  },
  {
   "cell_type": "code",
   "execution_count": 17,
   "id": "825cd8de",
   "metadata": {
    "execution": {
     "iopub.execute_input": "2021-12-05T05:22:35.186442Z",
     "iopub.status.busy": "2021-12-05T05:22:35.185792Z",
     "iopub.status.idle": "2021-12-05T05:22:35.871213Z",
     "shell.execute_reply": "2021-12-05T05:22:35.870562Z",
     "shell.execute_reply.started": "2021-12-04T14:48:45.912165Z"
    },
    "papermill": {
     "duration": 0.738599,
     "end_time": "2021-12-05T05:22:35.871371",
     "exception": false,
     "start_time": "2021-12-05T05:22:35.132772",
     "status": "completed"
    },
    "tags": []
   },
   "outputs": [
    {
     "data": {
      "text/plain": [
       "<AxesSubplot:xlabel='rating'>"
      ]
     },
     "execution_count": 17,
     "metadata": {},
     "output_type": "execute_result"
    },
    {
     "data": {
      "image/png": "[encoded data removed]",
      "text/plain": [
       "<Figure size 432x288 with 1 Axes>"
      ]
     },
     "metadata": {},
     "output_type": "display_data"
    }
   ],
   "source": [
    "sns.set_style('white')\n",
    "y=pd.crosstab(zomato.rating,zomato.online_order)\n",
    "y.plot(kind='bar',stacked=True)"
   ]
  },
  {
   "cell_type": "markdown",
   "id": "3055c1a1",
   "metadata": {
    "papermill": {
     "duration": 0.047834,
     "end_time": "2021-12-05T05:22:35.967491",
     "exception": false,
     "start_time": "2021-12-05T05:22:35.919657",
     "status": "completed"
    },
    "tags": []
   },
   "source": [
    "**Impact of Table Booking on Ratings**\n",
    "\n",
    "It can be seen from the chart below that restaurants that allow table bookings tend to have higher ratings."
   ]
  },
  {
   "cell_type": "code",
   "execution_count": 18,
   "id": "672393f6",
   "metadata": {
    "execution": {
     "iopub.execute_input": "2021-12-05T05:22:36.066149Z",
     "iopub.status.busy": "2021-12-05T05:22:36.065477Z",
     "iopub.status.idle": "2021-12-05T05:22:36.914768Z",
     "shell.execute_reply": "2021-12-05T05:22:36.915322Z",
     "shell.execute_reply.started": "2021-12-04T14:48:47.8309Z"
    },
    "papermill": {
     "duration": 0.900435,
     "end_time": "2021-12-05T05:22:36.915538",
     "exception": false,
     "start_time": "2021-12-05T05:22:36.015103",
     "status": "completed"
    },
    "tags": []
   },
   "outputs": [
    {
     "data": {
      "text/plain": [
       "<AxesSubplot:xlabel='rating'>"
      ]
     },
     "execution_count": 18,
     "metadata": {},
     "output_type": "execute_result"
    },
    {
     "data": {
      "image/png": "[encoded data removed]",
      "text/plain": [
       "<Figure size 432x288 with 1 Axes>"
      ]
     },
     "metadata": {},
     "output_type": "display_data"
    }
   ],
   "source": [
    "sns.set_style('white')\n",
    "y=pd.crosstab(zomato.rating,zomato.book_table)\n",
    "y.plot(kind='bar',stacked=True)"
   ]
  },
  {
   "cell_type": "markdown",
   "id": "920928c8",
   "metadata": {
    "papermill": {
     "duration": 0.049741,
     "end_time": "2021-12-05T05:22:37.014670",
     "exception": false,
     "start_time": "2021-12-05T05:22:36.964929",
     "status": "completed"
    },
    "tags": []
   },
   "source": [
    "**Top 10 retaurant locations**"
   ]
  },
  {
   "cell_type": "code",
   "execution_count": 19,
   "id": "8072664e",
   "metadata": {
    "execution": {
     "iopub.execute_input": "2021-12-05T05:22:37.126291Z",
     "iopub.status.busy": "2021-12-05T05:22:37.125316Z",
     "iopub.status.idle": "2021-12-05T05:22:37.420432Z",
     "shell.execute_reply": "2021-12-05T05:22:37.420901Z",
     "shell.execute_reply.started": "2021-12-04T14:48:49.920567Z"
    },
    "papermill": {
     "duration": 0.357128,
     "end_time": "2021-12-05T05:22:37.421072",
     "exception": false,
     "start_time": "2021-12-05T05:22:37.063944",
     "status": "completed"
    },
    "tags": []
   },
   "outputs": [
    {
     "data": {
      "image/png": "[encoded data removed]",
      "text/plain": [
       "<Figure size 432x288 with 1 Axes>"
      ]
     },
     "metadata": {},
     "output_type": "display_data"
    }
   ],
   "source": [
    "sns.set_style('darkgrid')\n",
    "ch=zomato['location'].value_counts()[:10]\n",
    "sns.barplot(x=ch,y=ch.index,palette='viridis')\n",
    "plt.xlabel('Number of Outlets')\n",
    "plt.ylabel('Location')\n",
    "plt.show()"
   ]
  },
  {
   "cell_type": "markdown",
   "id": "93adc90d",
   "metadata": {
    "papermill": {
     "duration": 0.049225,
     "end_time": "2021-12-05T05:22:37.519675",
     "exception": false,
     "start_time": "2021-12-05T05:22:37.470450",
     "status": "completed"
    },
    "tags": []
   },
   "source": [
    "# **Predictive Models**\n",
    "\n",
    "We now proceed to build a model that can predict ratings for new restaurants on the market to enable informed decision making by the stakeholders. The first step for this is to encode the columns containing string types into some sort of code."
   ]
  },
  {
   "cell_type": "code",
   "execution_count": 20,
   "id": "f63816d1",
   "metadata": {
    "execution": {
     "iopub.execute_input": "2021-12-05T05:22:37.622460Z",
     "iopub.status.busy": "2021-12-05T05:22:37.621541Z",
     "iopub.status.idle": "2021-12-05T05:22:37.665442Z",
     "shell.execute_reply": "2021-12-05T05:22:37.665972Z",
     "shell.execute_reply.started": "2021-12-04T15:22:52.396264Z"
    },
    "papermill": {
     "duration": 0.097007,
     "end_time": "2021-12-05T05:22:37.666147",
     "exception": false,
     "start_time": "2021-12-05T05:22:37.569140",
     "status": "completed"
    },
    "tags": []
   },
   "outputs": [],
   "source": [
    "def Encode(zomato):\n",
    "    for column in zomato.columns[~zomato.columns.isin(['rating', 'cost', 'votes'])]:\n",
    "        zomato[column] = zomato[column].factorize()[0]\n",
    "    return zomato\n",
    "\n",
    "encodedZomato = Encode(zomato.copy())"
   ]
  },
  {
   "cell_type": "markdown",
   "id": "a4abea89",
   "metadata": {
    "papermill": {
     "duration": 0.050282,
     "end_time": "2021-12-05T05:22:37.765980",
     "exception": false,
     "start_time": "2021-12-05T05:22:37.715698",
     "status": "completed"
    },
    "tags": []
   },
   "source": [
    "Next we try to plot a heatmap to get the correlation between the various available variables"
   ]
  },
  {
   "cell_type": "code",
   "execution_count": 21,
   "id": "68573dd0",
   "metadata": {
    "execution": {
     "iopub.execute_input": "2021-12-05T05:22:37.871932Z",
     "iopub.status.busy": "2021-12-05T05:22:37.870826Z",
     "iopub.status.idle": "2021-12-05T05:22:39.273181Z",
     "shell.execute_reply": "2021-12-05T05:22:39.273696Z",
     "shell.execute_reply.started": "2021-12-04T16:10:10.686433Z"
    },
    "papermill": {
     "duration": 1.457853,
     "end_time": "2021-12-05T05:22:39.273908",
     "exception": false,
     "start_time": "2021-12-05T05:22:37.816055",
     "status": "completed"
    },
    "tags": []
   },
   "outputs": [
    {
     "data": {
      "text/plain": [
       "<AxesSubplot:>"
      ]
     },
     "execution_count": 21,
     "metadata": {},
     "output_type": "execute_result"
    },
    {
     "data": {
      "image/png": "[encoded data removed]",
      "text/plain": [
       "<Figure size 1080x576 with 2 Axes>"
      ]
     },
     "metadata": {},
     "output_type": "display_data"
    }
   ],
   "source": [
    "#Get Correlation between different variables\n",
    "corr = encodedZomato.corr(method='kendall')\n",
    "plt.figure(figsize=(15,8))\n",
    "sns.heatmap(corr, annot=True)"
   ]
  },
  {
   "cell_type": "markdown",
   "id": "057c4cd9",
   "metadata": {
    "papermill": {
     "duration": 0.05301,
     "end_time": "2021-12-05T05:22:39.381033",
     "exception": false,
     "start_time": "2021-12-05T05:22:39.328023",
     "status": "completed"
    },
    "tags": []
   },
   "source": [
    "## **Splitting the Dataset**\n",
    "\n",
    "Next up is the very important step of the deciding the train-test split for the different models. In this, after careful consideration, a train-test split of 4:1 is chosen. Also, the dependent and independent variables are declared for the models. The target variable here is rating which is what we aim to predict for future restaurants."
   ]
  },
  {
   "cell_type": "code",
   "execution_count": 22,
   "id": "da2817d4",
   "metadata": {
    "execution": {
     "iopub.execute_input": "2021-12-05T05:22:39.496687Z",
     "iopub.status.busy": "2021-12-05T05:22:39.491597Z",
     "iopub.status.idle": "2021-12-05T05:22:39.514182Z",
     "shell.execute_reply": "2021-12-05T05:22:39.514704Z",
     "shell.execute_reply.started": "2021-12-04T15:23:14.483641Z"
    },
    "papermill": {
     "duration": 0.080299,
     "end_time": "2021-12-05T05:22:39.514902",
     "exception": false,
     "start_time": "2021-12-05T05:22:39.434603",
     "status": "completed"
    },
    "tags": []
   },
   "outputs": [
    {
     "data": {
      "text/plain": [
       "((32952, 8), (32952,))"
      ]
     },
     "execution_count": 22,
     "metadata": {},
     "output_type": "execute_result"
    }
   ],
   "source": [
    "#Defining X and Y for model, Train-test split\n",
    "x = encodedZomato[[\"online_order\",\"book_table\",\"votes\",\"location\",\"rest_type\",\"cuisines\",\"cost\",\"type\"]]\n",
    "y = encodedZomato['rating']\n",
    "#Getting Test and Training Set\n",
    "x_train,x_test,y_train,y_test=train_test_split(x,y,test_size=.2,random_state=353)\n",
    "x_train.shape, y_train.shape"
   ]
  },
  {
   "cell_type": "markdown",
   "id": "8663b36e",
   "metadata": {
    "papermill": {
     "duration": 0.053063,
     "end_time": "2021-12-05T05:22:39.621175",
     "exception": false,
     "start_time": "2021-12-05T05:22:39.568112",
     "status": "completed"
    },
    "tags": []
   },
   "source": [
    "## **Extra Tree Regressor**\n",
    "\n",
    "Extra Trees Regressor is an ensemble learning method fundamentally based on decision trees. Extra Trees Regressor, like RandomForest, randomizes certain decisions and subsets of data to minimize over-learning from the data and overfitting\n",
    "\n",
    "For more details, visit https://scikit-learn.org/stable/modules/generated/sklearn.ensemble.ExtraTreesRegressor"
   ]
  },
  {
   "cell_type": "code",
   "execution_count": 23,
   "id": "cca1eecd",
   "metadata": {
    "execution": {
     "iopub.execute_input": "2021-12-05T05:22:39.732617Z",
     "iopub.status.busy": "2021-12-05T05:22:39.731557Z",
     "iopub.status.idle": "2021-12-05T05:22:50.457687Z",
     "shell.execute_reply": "2021-12-05T05:22:50.457016Z",
     "shell.execute_reply.started": "2021-12-04T15:23:15.764782Z"
    },
    "papermill": {
     "duration": 10.783061,
     "end_time": "2021-12-05T05:22:50.457874",
     "exception": false,
     "start_time": "2021-12-05T05:22:39.674813",
     "status": "completed"
    },
    "tags": []
   },
   "outputs": [
    {
     "data": {
      "text/plain": [
       "0.9315543434792443"
      ]
     },
     "execution_count": 23,
     "metadata": {},
     "output_type": "execute_result"
    }
   ],
   "source": [
    "#Extra Tree Regression\n",
    "from sklearn.ensemble import  ExtraTreesRegressor\n",
    "ETree=ExtraTreesRegressor(n_estimators = 200)\n",
    "ETree.fit(x_train,y_train)\n",
    "y_predict=ETree.predict(x_test)\n",
    "r2_score(y_test,y_predict)"
   ]
  },
  {
   "cell_type": "markdown",
   "id": "8a9f828c",
   "metadata": {
    "papermill": {
     "duration": 0.055239,
     "end_time": "2021-12-05T05:22:50.567311",
     "exception": false,
     "start_time": "2021-12-05T05:22:50.512072",
     "status": "completed"
    },
    "tags": []
   },
   "source": [
    "## **Decision Tree Regressor**\n",
    "\n",
    "Decision Trees (DTs) are a non-parametric supervised learning method used for classification and regression. The goal is to create a model that predicts the value of a target variable by learning simple decision rules inferred from the data features. A tree can be seen as a piecewise constant approximation.\n",
    "\n",
    "For more details, visit https://scikit-learn.org/stable/modules/tree.html\n",
    "\n",
    "also, https://scikit-learn.org/stable/modules/generated/sklearn.tree.DecisionTreeRegressor"
   ]
  },
  {
   "cell_type": "code",
   "execution_count": 24,
   "id": "336efa6f",
   "metadata": {
    "execution": {
     "iopub.execute_input": "2021-12-05T05:22:50.684174Z",
     "iopub.status.busy": "2021-12-05T05:22:50.683470Z",
     "iopub.status.idle": "2021-12-05T05:22:50.836189Z",
     "shell.execute_reply": "2021-12-05T05:22:50.835555Z",
     "shell.execute_reply.started": "2021-12-04T15:23:29.207567Z"
    },
    "papermill": {
     "duration": 0.214442,
     "end_time": "2021-12-05T05:22:50.836374",
     "exception": false,
     "start_time": "2021-12-05T05:22:50.621932",
     "status": "completed"
    },
    "tags": []
   },
   "outputs": [
    {
     "data": {
      "text/plain": [
       "0.8889369521797673"
      ]
     },
     "execution_count": 24,
     "metadata": {},
     "output_type": "execute_result"
    }
   ],
   "source": [
    "#DTree Regression\n",
    "from sklearn.tree import DecisionTreeRegressor\n",
    "DTree=DecisionTreeRegressor(min_samples_leaf=.00001)\n",
    "DTree.fit(x_train,y_train)\n",
    "y_predict=DTree.predict(x_test)\n",
    "r2_score(y_test,y_predict)"
   ]
  },
  {
   "cell_type": "markdown",
   "id": "75b7bf98",
   "metadata": {
    "papermill": {
     "duration": 0.055056,
     "end_time": "2021-12-05T05:22:50.949740",
     "exception": false,
     "start_time": "2021-12-05T05:22:50.894684",
     "status": "completed"
    },
    "tags": []
   },
   "source": [
    "## **Linear Regression Model**\n",
    "\n",
    "In statistics, linear regression is a linear approach for modelling the relationship between a scalar response and one or more explanatory variables. The case of one explanatory variable is called simple linear regression.\n",
    "\n",
    "Visit: https://scikit-learn.org/stable/modules/generated/sklearn.linear_model.LinearRegression"
   ]
  },
  {
   "cell_type": "code",
   "execution_count": 25,
   "id": "ab422ad5",
   "metadata": {
    "execution": {
     "iopub.execute_input": "2021-12-05T05:22:51.071109Z",
     "iopub.status.busy": "2021-12-05T05:22:51.070330Z",
     "iopub.status.idle": "2021-12-05T05:22:51.094790Z",
     "shell.execute_reply": "2021-12-05T05:22:51.095864Z",
     "shell.execute_reply.started": "2021-12-04T15:23:32.741633Z"
    },
    "papermill": {
     "duration": 0.08989,
     "end_time": "2021-12-05T05:22:51.096239",
     "exception": false,
     "start_time": "2021-12-05T05:22:51.006349",
     "status": "completed"
    },
    "tags": []
   },
   "outputs": [
    {
     "data": {
      "text/plain": [
       "0.2832442536474552"
      ]
     },
     "execution_count": 25,
     "metadata": {},
     "output_type": "execute_result"
    }
   ],
   "source": [
    "#Some LinReg Model\n",
    "reg=LinearRegression()\n",
    "reg.fit(x_train,y_train)\n",
    "y_pred=reg.predict(x_test)\n",
    "r2_score(y_test,y_pred)"
   ]
  },
  {
   "cell_type": "markdown",
   "id": "4e8148da",
   "metadata": {
    "papermill": {
     "duration": 0.057461,
     "end_time": "2021-12-05T05:22:51.257723",
     "exception": false,
     "start_time": "2021-12-05T05:22:51.200262",
     "status": "completed"
    },
    "tags": []
   },
   "source": [
    "## **Gradient Boosting Regressor**\n",
    "\n",
    "GB builds an additive model in a forward stage-wise fashion; it allows for the optimization of arbitrary differentiable loss functions. In each stage a regression tree is fit on the negative gradient of the given loss function.\n",
    "\n",
    "For more details, visit https://scikit-learn.org/stable/modules/generated/sklearn.ensemble.GradientBoostingRegressor"
   ]
  },
  {
   "cell_type": "code",
   "execution_count": 26,
   "id": "4a9e9e4a",
   "metadata": {
    "execution": {
     "iopub.execute_input": "2021-12-05T05:22:51.374044Z",
     "iopub.status.busy": "2021-12-05T05:22:51.373326Z",
     "iopub.status.idle": "2021-12-05T05:22:54.322875Z",
     "shell.execute_reply": "2021-12-05T05:22:54.323450Z",
     "shell.execute_reply.started": "2021-12-04T15:23:35.710382Z"
    },
    "papermill": {
     "duration": 3.011628,
     "end_time": "2021-12-05T05:22:54.323669",
     "exception": false,
     "start_time": "2021-12-05T05:22:51.312041",
     "status": "completed"
    },
    "tags": []
   },
   "outputs": [
    {
     "data": {
      "text/plain": [
       "0.5145977180752741"
      ]
     },
     "execution_count": 26,
     "metadata": {},
     "output_type": "execute_result"
    }
   ],
   "source": [
    "from sklearn.ensemble import GradientBoostingRegressor\n",
    "gbr = GradientBoostingRegressor()\n",
    "gbr.fit(x_train, y_train)\n",
    "y_predict=gbr.predict(x_test)\n",
    "r2_score(y_test,y_predict)"
   ]
  },
  {
   "cell_type": "markdown",
   "id": "55beb8e4",
   "metadata": {
    "papermill": {
     "duration": 0.053679,
     "end_time": "2021-12-05T05:22:54.432101",
     "exception": false,
     "start_time": "2021-12-05T05:22:54.378422",
     "status": "completed"
    },
    "tags": []
   },
   "source": [
    "## **XGBoost Regressor**\n",
    "\n",
    "XGBoost is a decision-tree-based ensemble Machine Learning algorithm that uses a gradient boosting framework. In prediction problems involving unstructured data (images, text, etc.) artificial neural networks tend to outperform all other algorithms or frameworks. However, when it comes to small-to-medium structured/tabular data, decision tree based algorithms are considered best-in-class right now.\n",
    "Visit https://xgboost.readthedocs.io/en/latest/python/python_api.html?highlight=xgbregressor#xgboost.XGBRegressor to learn more"
   ]
  },
  {
   "cell_type": "code",
   "execution_count": 27,
   "id": "89fd74ab",
   "metadata": {
    "execution": {
     "iopub.execute_input": "2021-12-05T05:22:54.547428Z",
     "iopub.status.busy": "2021-12-05T05:22:54.546730Z",
     "iopub.status.idle": "2021-12-05T05:23:07.679227Z",
     "shell.execute_reply": "2021-12-05T05:23:07.679744Z",
     "shell.execute_reply.started": "2021-12-04T15:23:40.77442Z"
    },
    "papermill": {
     "duration": 13.193953,
     "end_time": "2021-12-05T05:23:07.679946",
     "exception": false,
     "start_time": "2021-12-05T05:22:54.485993",
     "status": "completed"
    },
    "tags": []
   },
   "outputs": [
    {
     "data": {
      "text/plain": [
       "0.9411365085771398"
      ]
     },
     "execution_count": 27,
     "metadata": {},
     "output_type": "execute_result"
    }
   ],
   "source": [
    "from xgboost import XGBRegressor\n",
    "\n",
    "xgb = XGBRegressor(booster = 'gbtree', learning_rate = 0.1, max_depth = 15, n_estimators = 200)\n",
    "xgb.fit(x_train, y_train)\n",
    "y_predict=xgb.predict(x_test)\n",
    "\n",
    "r2_score(y_test,y_predict)"
   ]
  },
  {
   "cell_type": "markdown",
   "id": "ca576d7d",
   "metadata": {
    "papermill": {
     "duration": 0.05412,
     "end_time": "2021-12-05T05:23:07.789939",
     "exception": false,
     "start_time": "2021-12-05T05:23:07.735819",
     "status": "completed"
    },
    "tags": []
   },
   "source": [
    "## **Random Forest Regressor**\n",
    "\n",
    "A random forest is a meta estimator that fits a number of classifying decision trees on various sub-samples of the dataset and uses averaging to improve the predictive accuracy and control over-fitting.\n",
    "\n",
    "Visit https://scikit-learn.org/stable/modules/generated/sklearn.ensemble.RandomForestRegressor to learn more"
   ]
  },
  {
   "cell_type": "code",
   "execution_count": 28,
   "id": "a76b9a40",
   "metadata": {
    "execution": {
     "iopub.execute_input": "2021-12-05T05:23:07.907820Z",
     "iopub.status.busy": "2021-12-05T05:23:07.907183Z",
     "iopub.status.idle": "2021-12-05T05:23:27.367382Z",
     "shell.execute_reply": "2021-12-05T05:23:27.366828Z",
     "shell.execute_reply.started": "2021-12-04T15:23:53.2078Z"
    },
    "papermill": {
     "duration": 19.52206,
     "end_time": "2021-12-05T05:23:27.367566",
     "exception": false,
     "start_time": "2021-12-05T05:23:07.845506",
     "status": "completed"
    },
    "tags": []
   },
   "outputs": [
    {
     "data": {
      "text/plain": [
       "0.9299500187276665"
      ]
     },
     "execution_count": 28,
     "metadata": {},
     "output_type": "execute_result"
    }
   ],
   "source": [
    "from sklearn.ensemble import RandomForestRegressor\n",
    "# tuning=dict()\n",
    "rf=RandomForestRegressor(n_estimators=200,random_state=50,min_samples_leaf=.00001)\n",
    "rf.fit(x_train,y_train)\n",
    "y_pred=rf.predict(x_test)\n",
    "r2_score(y_test,y_pred)"
   ]
  },
  {
   "cell_type": "markdown",
   "id": "6670d9ec",
   "metadata": {
    "papermill": {
     "duration": 0.054154,
     "end_time": "2021-12-05T05:23:27.476917",
     "exception": false,
     "start_time": "2021-12-05T05:23:27.422763",
     "status": "completed"
    },
    "tags": []
   },
   "source": [
    "Now let us compare and contrast the performance of each of our models by arranging their r-squared scores in a tabulated format"
   ]
  },
  {
   "cell_type": "code",
   "execution_count": 29,
   "id": "383e1f87",
   "metadata": {
    "execution": {
     "iopub.execute_input": "2021-12-05T05:23:27.602915Z",
     "iopub.status.busy": "2021-12-05T05:23:27.601499Z",
     "iopub.status.idle": "2021-12-05T05:23:28.836399Z",
     "shell.execute_reply": "2021-12-05T05:23:28.837113Z",
     "shell.execute_reply.started": "2021-12-04T15:24:22.110798Z"
    },
    "papermill": {
     "duration": 1.305617,
     "end_time": "2021-12-05T05:23:28.837350",
     "exception": false,
     "start_time": "2021-12-05T05:23:27.531733",
     "status": "completed"
    },
    "tags": []
   },
   "outputs": [
    {
     "data": {
      "text/html": [
       "<div>\n",
       "<style scoped>\n",
       "    .dataframe tbody tr th:only-of-type {\n",
       "        vertical-align: middle;\n",
       "    }\n",
       "\n",
       "    .dataframe tbody tr th {\n",
       "        vertical-align: top;\n",
       "    }\n",
       "\n",
       "    .dataframe thead th {\n",
       "        text-align: right;\n",
       "    }\n",
       "</style>\n",
       "<table border=\"1\" class=\"dataframe\">\n",
       "  <thead>\n",
       "    <tr style=\"text-align: right;\">\n",
       "      <th></th>\n",
       "      <th>Model</th>\n",
       "      <th>Score</th>\n",
       "    </tr>\n",
       "  </thead>\n",
       "  <tbody>\n",
       "    <tr>\n",
       "      <th>5</th>\n",
       "      <td>XgBoost</td>\n",
       "      <td>0.941137</td>\n",
       "    </tr>\n",
       "    <tr>\n",
       "      <th>3</th>\n",
       "      <td>Extra Tree Regressor</td>\n",
       "      <td>0.931554</td>\n",
       "    </tr>\n",
       "    <tr>\n",
       "      <th>2</th>\n",
       "      <td>Random Forest</td>\n",
       "      <td>0.929950</td>\n",
       "    </tr>\n",
       "    <tr>\n",
       "      <th>1</th>\n",
       "      <td>Decision Tree</td>\n",
       "      <td>0.888937</td>\n",
       "    </tr>\n",
       "    <tr>\n",
       "      <th>4</th>\n",
       "      <td>Gradient Boost</td>\n",
       "      <td>0.514598</td>\n",
       "    </tr>\n",
       "    <tr>\n",
       "      <th>0</th>\n",
       "      <td>Linear Regression</td>\n",
       "      <td>0.283244</td>\n",
       "    </tr>\n",
       "  </tbody>\n",
       "</table>\n",
       "</div>"
      ],
      "text/plain": [
       "                  Model     Score\n",
       "5               XgBoost  0.941137\n",
       "3  Extra Tree Regressor  0.931554\n",
       "2         Random Forest  0.929950\n",
       "1         Decision Tree  0.888937\n",
       "4        Gradient Boost  0.514598\n",
       "0     Linear Regression  0.283244"
      ]
     },
     "execution_count": 29,
     "metadata": {},
     "output_type": "execute_result"
    }
   ],
   "source": [
    "models = pd.DataFrame({\n",
    "    'Model' : ['Linear Regression', 'Decision Tree', 'Random Forest','Extra Tree Regressor', 'Gradient Boost', 'XgBoost'],\n",
    "    'Score' : [reg.score(x_test, y_test), DTree.score(x_test, y_test), rf.score(x_test, y_test), ETree.score(x_test, y_test),\n",
    "               gbr.score(x_test, y_test), xgb.score(x_test, y_test)]\n",
    "})\n",
    "\n",
    "\n",
    "models.sort_values(by = 'Score', ascending = False)"
   ]
  },
  {
   "cell_type": "markdown",
   "id": "b726142d",
   "metadata": {
    "papermill": {
     "duration": 0.055638,
     "end_time": "2021-12-05T05:23:28.949609",
     "exception": false,
     "start_time": "2021-12-05T05:23:28.893971",
     "status": "completed"
    },
    "tags": []
   },
   "source": [
    "# **Inferences**\n",
    "\n",
    "It is clearly visible that the XGBoost regressor works the best with our dataset, which means that we'll be using this model to predict the ratings of the our future dataset."
   ]
  },
  {
   "cell_type": "markdown",
   "id": "fd6faecf",
   "metadata": {
    "papermill": {
     "duration": 0.05592,
     "end_time": "2021-12-05T05:23:29.063796",
     "exception": false,
     "start_time": "2021-12-05T05:23:29.007876",
     "status": "completed"
    },
    "tags": []
   },
   "source": [
    "Now we need to use our model, the XGBoost regressor, to predict the ratings for new restaurants"
   ]
  },
  {
   "cell_type": "markdown",
   "id": "e6b2a0bd",
   "metadata": {
    "papermill": {
     "duration": 0.056962,
     "end_time": "2021-12-05T05:23:29.177894",
     "exception": false,
     "start_time": "2021-12-05T05:23:29.120932",
     "status": "completed"
    },
    "tags": []
   },
   "source": [
    "# **Predicting Ratings for New Restaurants**"
   ]
  },
  {
   "cell_type": "code",
   "execution_count": 30,
   "id": "456eb33d",
   "metadata": {
    "execution": {
     "iopub.execute_input": "2021-12-05T05:23:29.293651Z",
     "iopub.status.busy": "2021-12-05T05:23:29.292971Z",
     "iopub.status.idle": "2021-12-05T05:23:29.328742Z",
     "shell.execute_reply": "2021-12-05T05:23:29.329230Z",
     "shell.execute_reply.started": "2021-12-04T15:24:26.686044Z"
    },
    "papermill": {
     "duration": 0.095239,
     "end_time": "2021-12-05T05:23:29.329421",
     "exception": false,
     "start_time": "2021-12-05T05:23:29.234182",
     "status": "completed"
    },
    "tags": []
   },
   "outputs": [
    {
     "data": {
      "text/html": [
       "<div>\n",
       "<style scoped>\n",
       "    .dataframe tbody tr th:only-of-type {\n",
       "        vertical-align: middle;\n",
       "    }\n",
       "\n",
       "    .dataframe tbody tr th {\n",
       "        vertical-align: top;\n",
       "    }\n",
       "\n",
       "    .dataframe thead th {\n",
       "        text-align: right;\n",
       "    }\n",
       "</style>\n",
       "<table border=\"1\" class=\"dataframe\">\n",
       "  <thead>\n",
       "    <tr style=\"text-align: right;\">\n",
       "      <th></th>\n",
       "      <th>name</th>\n",
       "      <th>online_order</th>\n",
       "      <th>book_table</th>\n",
       "      <th>votes</th>\n",
       "      <th>location</th>\n",
       "      <th>rest_type</th>\n",
       "      <th>cuisines</th>\n",
       "      <th>cost</th>\n",
       "      <th>type</th>\n",
       "      <th>city</th>\n",
       "    </tr>\n",
       "  </thead>\n",
       "  <tbody>\n",
       "    <tr>\n",
       "      <th>0</th>\n",
       "      <td>Madras Meal Company</td>\n",
       "      <td>True</td>\n",
       "      <td>False</td>\n",
       "      <td>400</td>\n",
       "      <td>Banashankari</td>\n",
       "      <td>Casual Dining, Takeaway, Delivery</td>\n",
       "      <td>South Indian, Chettinad</td>\n",
       "      <td>400.0</td>\n",
       "      <td>Buffet</td>\n",
       "      <td>Banashankari</td>\n",
       "    </tr>\n",
       "    <tr>\n",
       "      <th>1</th>\n",
       "      <td>Dwarkamai</td>\n",
       "      <td>True</td>\n",
       "      <td>False</td>\n",
       "      <td>291</td>\n",
       "      <td>Banashankari</td>\n",
       "      <td>Casual Dining</td>\n",
       "      <td>South Indian, Chinese, Street Food</td>\n",
       "      <td>690.0</td>\n",
       "      <td>Buffet</td>\n",
       "      <td>Banashankari</td>\n",
       "    </tr>\n",
       "    <tr>\n",
       "      <th>2</th>\n",
       "      <td>Great Indian Khichdi</td>\n",
       "      <td>True</td>\n",
       "      <td>True</td>\n",
       "      <td>1279</td>\n",
       "      <td>J P Nagar</td>\n",
       "      <td>Casual Dining, Delivery</td>\n",
       "      <td>North Indian, Healthy Food</td>\n",
       "      <td>420.0</td>\n",
       "      <td>Buffet</td>\n",
       "      <td>J P Nagar</td>\n",
       "    </tr>\n",
       "    <tr>\n",
       "      <th>3</th>\n",
       "      <td>Shiv Sagar Signature</td>\n",
       "      <td>False</td>\n",
       "      <td>False</td>\n",
       "      <td>705</td>\n",
       "      <td>J P Nagar</td>\n",
       "      <td>Casual Dining</td>\n",
       "      <td>South Indian, Fast Food, Chinese</td>\n",
       "      <td>239.0</td>\n",
       "      <td>Buffet</td>\n",
       "      <td>J P Nagar</td>\n",
       "    </tr>\n",
       "    <tr>\n",
       "      <th>4</th>\n",
       "      <td>Vesuvio</td>\n",
       "      <td>False</td>\n",
       "      <td>True</td>\n",
       "      <td>200</td>\n",
       "      <td>Bannerghatta Road</td>\n",
       "      <td>Fine Dining</td>\n",
       "      <td>Italian</td>\n",
       "      <td>1000.0</td>\n",
       "      <td>Dine-out</td>\n",
       "      <td>Bannerghatta Road</td>\n",
       "    </tr>\n",
       "    <tr>\n",
       "      <th>5</th>\n",
       "      <td>Lombard</td>\n",
       "      <td>False</td>\n",
       "      <td>True</td>\n",
       "      <td>35</td>\n",
       "      <td>Jayanagar</td>\n",
       "      <td>Casual Dining</td>\n",
       "      <td>Italian, Spanish</td>\n",
       "      <td>900.0</td>\n",
       "      <td>Buffet</td>\n",
       "      <td>Jayanagar</td>\n",
       "    </tr>\n",
       "    <tr>\n",
       "      <th>6</th>\n",
       "      <td>Xi Jumping!</td>\n",
       "      <td>True</td>\n",
       "      <td>True</td>\n",
       "      <td>69</td>\n",
       "      <td>Banashankari</td>\n",
       "      <td>Casual Dining, Takeaway, Delivery</td>\n",
       "      <td>Chinese, Fast Food</td>\n",
       "      <td>200.0</td>\n",
       "      <td>Buffet</td>\n",
       "      <td>Banashankari</td>\n",
       "    </tr>\n",
       "    <tr>\n",
       "      <th>7</th>\n",
       "      <td>Andhra Gunpowder</td>\n",
       "      <td>True</td>\n",
       "      <td>True</td>\n",
       "      <td>975</td>\n",
       "      <td>Indiranagar</td>\n",
       "      <td>Casual Dining, Takeaway, Delivery</td>\n",
       "      <td>Andhra</td>\n",
       "      <td>400.0</td>\n",
       "      <td>Buffet</td>\n",
       "      <td>Banashankari</td>\n",
       "    </tr>\n",
       "    <tr>\n",
       "      <th>8</th>\n",
       "      <td>Punjabi Nawabi</td>\n",
       "      <td>True</td>\n",
       "      <td>False</td>\n",
       "      <td>99</td>\n",
       "      <td>Indiranagar</td>\n",
       "      <td>Casual Dining, Delivery</td>\n",
       "      <td>North Indian, Mughlai, Biryani</td>\n",
       "      <td>300.0</td>\n",
       "      <td>Buffet</td>\n",
       "      <td>Banashankari</td>\n",
       "    </tr>\n",
       "    <tr>\n",
       "      <th>9</th>\n",
       "      <td>Lo! - Low Carb and Keto Foods</td>\n",
       "      <td>True</td>\n",
       "      <td>False</td>\n",
       "      <td>333</td>\n",
       "      <td>Domlur</td>\n",
       "      <td>Takeaway, Delivery</td>\n",
       "      <td>Rolls, American, Healthy Food</td>\n",
       "      <td>400.0</td>\n",
       "      <td>Delivery</td>\n",
       "      <td>Indiranagar</td>\n",
       "    </tr>\n",
       "  </tbody>\n",
       "</table>\n",
       "</div>"
      ],
      "text/plain": [
       "                            name  online_order  book_table  votes  \\\n",
       "0            Madras Meal Company          True       False    400   \n",
       "1                     Dwarkamai           True       False    291   \n",
       "2           Great Indian Khichdi          True        True   1279   \n",
       "3           Shiv Sagar Signature         False       False    705   \n",
       "4                        Vesuvio         False        True    200   \n",
       "5                       Lombard          False        True     35   \n",
       "6                    Xi Jumping!          True        True     69   \n",
       "7               Andhra Gunpowder          True        True    975   \n",
       "8                 Punjabi Nawabi          True       False     99   \n",
       "9  Lo! - Low Carb and Keto Foods          True       False    333   \n",
       "\n",
       "            location                          rest_type  \\\n",
       "0       Banashankari  Casual Dining, Takeaway, Delivery   \n",
       "1       Banashankari                      Casual Dining   \n",
       "2          J P Nagar            Casual Dining, Delivery   \n",
       "3          J P Nagar                      Casual Dining   \n",
       "4  Bannerghatta Road                        Fine Dining   \n",
       "5          Jayanagar                      Casual Dining   \n",
       "6       Banashankari  Casual Dining, Takeaway, Delivery   \n",
       "7        Indiranagar  Casual Dining, Takeaway, Delivery   \n",
       "8        Indiranagar            Casual Dining, Delivery   \n",
       "9             Domlur                 Takeaway, Delivery   \n",
       "\n",
       "                             cuisines    cost      type               city  \n",
       "0             South Indian, Chettinad   400.0    Buffet       Banashankari  \n",
       "1  South Indian, Chinese, Street Food   690.0    Buffet       Banashankari  \n",
       "2          North Indian, Healthy Food   420.0    Buffet          J P Nagar  \n",
       "3    South Indian, Fast Food, Chinese   239.0    Buffet          J P Nagar  \n",
       "4                             Italian  1000.0  Dine-out  Bannerghatta Road  \n",
       "5                    Italian, Spanish   900.0    Buffet          Jayanagar  \n",
       "6                  Chinese, Fast Food   200.0    Buffet       Banashankari  \n",
       "7                              Andhra   400.0    Buffet       Banashankari  \n",
       "8      North Indian, Mughlai, Biryani   300.0    Buffet       Banashankari  \n",
       "9       Rolls, American, Healthy Food   400.0  Delivery        Indiranagar  "
      ]
     },
     "execution_count": 30,
     "metadata": {},
     "output_type": "execute_result"
    }
   ],
   "source": [
    "df_new = pd.read_csv('../input/zomato-prediction/Zomato_predictions.csv')\n",
    "#Converting cost to float\n",
    "df_new['cost'] = df_new['cost'].astype(float)\n",
    "df_new"
   ]
  },
  {
   "cell_type": "code",
   "execution_count": 31,
   "id": "ce627379",
   "metadata": {
    "execution": {
     "iopub.execute_input": "2021-12-05T05:23:29.447057Z",
     "iopub.status.busy": "2021-12-05T05:23:29.446432Z",
     "iopub.status.idle": "2021-12-05T05:23:29.466502Z",
     "shell.execute_reply": "2021-12-05T05:23:29.465849Z",
     "shell.execute_reply.started": "2021-12-04T15:24:30.310235Z"
    },
    "papermill": {
     "duration": 0.080185,
     "end_time": "2021-12-05T05:23:29.466661",
     "exception": false,
     "start_time": "2021-12-05T05:23:29.386476",
     "status": "completed"
    },
    "tags": []
   },
   "outputs": [
    {
     "data": {
      "text/html": [
       "<div>\n",
       "<style scoped>\n",
       "    .dataframe tbody tr th:only-of-type {\n",
       "        vertical-align: middle;\n",
       "    }\n",
       "\n",
       "    .dataframe tbody tr th {\n",
       "        vertical-align: top;\n",
       "    }\n",
       "\n",
       "    .dataframe thead th {\n",
       "        text-align: right;\n",
       "    }\n",
       "</style>\n",
       "<table border=\"1\" class=\"dataframe\">\n",
       "  <thead>\n",
       "    <tr style=\"text-align: right;\">\n",
       "      <th></th>\n",
       "      <th>name</th>\n",
       "      <th>online_order</th>\n",
       "      <th>book_table</th>\n",
       "      <th>votes</th>\n",
       "      <th>location</th>\n",
       "      <th>rest_type</th>\n",
       "      <th>cuisines</th>\n",
       "      <th>cost</th>\n",
       "      <th>type</th>\n",
       "      <th>city</th>\n",
       "    </tr>\n",
       "  </thead>\n",
       "  <tbody>\n",
       "    <tr>\n",
       "      <th>0</th>\n",
       "      <td>0</td>\n",
       "      <td>0</td>\n",
       "      <td>0</td>\n",
       "      <td>400</td>\n",
       "      <td>0</td>\n",
       "      <td>0</td>\n",
       "      <td>0</td>\n",
       "      <td>400.0</td>\n",
       "      <td>0</td>\n",
       "      <td>0</td>\n",
       "    </tr>\n",
       "    <tr>\n",
       "      <th>1</th>\n",
       "      <td>1</td>\n",
       "      <td>0</td>\n",
       "      <td>0</td>\n",
       "      <td>291</td>\n",
       "      <td>0</td>\n",
       "      <td>1</td>\n",
       "      <td>1</td>\n",
       "      <td>690.0</td>\n",
       "      <td>0</td>\n",
       "      <td>0</td>\n",
       "    </tr>\n",
       "    <tr>\n",
       "      <th>2</th>\n",
       "      <td>2</td>\n",
       "      <td>0</td>\n",
       "      <td>1</td>\n",
       "      <td>1279</td>\n",
       "      <td>1</td>\n",
       "      <td>2</td>\n",
       "      <td>2</td>\n",
       "      <td>420.0</td>\n",
       "      <td>0</td>\n",
       "      <td>1</td>\n",
       "    </tr>\n",
       "    <tr>\n",
       "      <th>3</th>\n",
       "      <td>3</td>\n",
       "      <td>1</td>\n",
       "      <td>0</td>\n",
       "      <td>705</td>\n",
       "      <td>1</td>\n",
       "      <td>1</td>\n",
       "      <td>3</td>\n",
       "      <td>239.0</td>\n",
       "      <td>0</td>\n",
       "      <td>1</td>\n",
       "    </tr>\n",
       "    <tr>\n",
       "      <th>4</th>\n",
       "      <td>4</td>\n",
       "      <td>1</td>\n",
       "      <td>1</td>\n",
       "      <td>200</td>\n",
       "      <td>2</td>\n",
       "      <td>3</td>\n",
       "      <td>4</td>\n",
       "      <td>1000.0</td>\n",
       "      <td>1</td>\n",
       "      <td>2</td>\n",
       "    </tr>\n",
       "    <tr>\n",
       "      <th>5</th>\n",
       "      <td>5</td>\n",
       "      <td>1</td>\n",
       "      <td>1</td>\n",
       "      <td>35</td>\n",
       "      <td>3</td>\n",
       "      <td>1</td>\n",
       "      <td>5</td>\n",
       "      <td>900.0</td>\n",
       "      <td>0</td>\n",
       "      <td>3</td>\n",
       "    </tr>\n",
       "    <tr>\n",
       "      <th>6</th>\n",
       "      <td>6</td>\n",
       "      <td>0</td>\n",
       "      <td>1</td>\n",
       "      <td>69</td>\n",
       "      <td>0</td>\n",
       "      <td>0</td>\n",
       "      <td>6</td>\n",
       "      <td>200.0</td>\n",
       "      <td>0</td>\n",
       "      <td>0</td>\n",
       "    </tr>\n",
       "    <tr>\n",
       "      <th>7</th>\n",
       "      <td>7</td>\n",
       "      <td>0</td>\n",
       "      <td>1</td>\n",
       "      <td>975</td>\n",
       "      <td>4</td>\n",
       "      <td>0</td>\n",
       "      <td>7</td>\n",
       "      <td>400.0</td>\n",
       "      <td>0</td>\n",
       "      <td>0</td>\n",
       "    </tr>\n",
       "    <tr>\n",
       "      <th>8</th>\n",
       "      <td>8</td>\n",
       "      <td>0</td>\n",
       "      <td>0</td>\n",
       "      <td>99</td>\n",
       "      <td>4</td>\n",
       "      <td>2</td>\n",
       "      <td>8</td>\n",
       "      <td>300.0</td>\n",
       "      <td>0</td>\n",
       "      <td>0</td>\n",
       "    </tr>\n",
       "    <tr>\n",
       "      <th>9</th>\n",
       "      <td>9</td>\n",
       "      <td>0</td>\n",
       "      <td>0</td>\n",
       "      <td>333</td>\n",
       "      <td>5</td>\n",
       "      <td>4</td>\n",
       "      <td>9</td>\n",
       "      <td>400.0</td>\n",
       "      <td>2</td>\n",
       "      <td>4</td>\n",
       "    </tr>\n",
       "  </tbody>\n",
       "</table>\n",
       "</div>"
      ],
      "text/plain": [
       "   name  online_order  book_table  votes  location  rest_type  cuisines  \\\n",
       "0     0             0           0    400         0          0         0   \n",
       "1     1             0           0    291         0          1         1   \n",
       "2     2             0           1   1279         1          2         2   \n",
       "3     3             1           0    705         1          1         3   \n",
       "4     4             1           1    200         2          3         4   \n",
       "5     5             1           1     35         3          1         5   \n",
       "6     6             0           1     69         0          0         6   \n",
       "7     7             0           1    975         4          0         7   \n",
       "8     8             0           0     99         4          2         8   \n",
       "9     9             0           0    333         5          4         9   \n",
       "\n",
       "     cost  type  city  \n",
       "0   400.0     0     0  \n",
       "1   690.0     0     0  \n",
       "2   420.0     0     1  \n",
       "3   239.0     0     1  \n",
       "4  1000.0     1     2  \n",
       "5   900.0     0     3  \n",
       "6   200.0     0     0  \n",
       "7   400.0     0     0  \n",
       "8   300.0     0     0  \n",
       "9   400.0     2     4  "
      ]
     },
     "execution_count": 31,
     "metadata": {},
     "output_type": "execute_result"
    }
   ],
   "source": [
    "zomatoNew = Encode(df_new.copy())\n",
    "zomatoNew"
   ]
  },
  {
   "cell_type": "code",
   "execution_count": 32,
   "id": "5b9fe55b",
   "metadata": {
    "execution": {
     "iopub.execute_input": "2021-12-05T05:23:29.588295Z",
     "iopub.status.busy": "2021-12-05T05:23:29.587608Z",
     "iopub.status.idle": "2021-12-05T05:23:29.607307Z",
     "shell.execute_reply": "2021-12-05T05:23:29.607870Z",
     "shell.execute_reply.started": "2021-12-04T16:02:22.398893Z"
    },
    "papermill": {
     "duration": 0.084532,
     "end_time": "2021-12-05T05:23:29.608111",
     "exception": false,
     "start_time": "2021-12-05T05:23:29.523579",
     "status": "completed"
    },
    "tags": []
   },
   "outputs": [
    {
     "data": {
      "text/plain": [
       "[4.0, 3.7, 4.2, 4.0, 4.0, 3.2, 3.5, 3.9, 3.8, 4.2]"
      ]
     },
     "execution_count": 32,
     "metadata": {},
     "output_type": "execute_result"
    }
   ],
   "source": [
    "\n",
    "x_pred = zomatoNew[[\"online_order\",\"book_table\",\"votes\",\"location\",\"rest_type\",\"cuisines\",\"cost\",\"type\"]]\n",
    "y_predict=xgb.predict(x_pred)\n",
    "y_pred_list = [ round(elem, 1) for elem in y_predict ]\n",
    "y_pred_list"
   ]
  },
  {
   "cell_type": "code",
   "execution_count": 33,
   "id": "86cb3323",
   "metadata": {
    "execution": {
     "iopub.execute_input": "2021-12-05T05:23:29.748255Z",
     "iopub.status.busy": "2021-12-05T05:23:29.747261Z",
     "iopub.status.idle": "2021-12-05T05:23:29.752288Z",
     "shell.execute_reply": "2021-12-05T05:23:29.751773Z",
     "shell.execute_reply.started": "2021-12-04T16:03:21.037536Z"
    },
    "papermill": {
     "duration": 0.08558,
     "end_time": "2021-12-05T05:23:29.752451",
     "exception": false,
     "start_time": "2021-12-05T05:23:29.666871",
     "status": "completed"
    },
    "tags": []
   },
   "outputs": [
    {
     "data": {
      "text/html": [
       "<div>\n",
       "<style scoped>\n",
       "    .dataframe tbody tr th:only-of-type {\n",
       "        vertical-align: middle;\n",
       "    }\n",
       "\n",
       "    .dataframe tbody tr th {\n",
       "        vertical-align: top;\n",
       "    }\n",
       "\n",
       "    .dataframe thead th {\n",
       "        text-align: right;\n",
       "    }\n",
       "</style>\n",
       "<table border=\"1\" class=\"dataframe\">\n",
       "  <thead>\n",
       "    <tr style=\"text-align: right;\">\n",
       "      <th></th>\n",
       "      <th>name</th>\n",
       "      <th>online_order</th>\n",
       "      <th>book_table</th>\n",
       "      <th>votes</th>\n",
       "      <th>location</th>\n",
       "      <th>rest_type</th>\n",
       "      <th>cuisines</th>\n",
       "      <th>cost</th>\n",
       "      <th>type</th>\n",
       "      <th>city</th>\n",
       "      <th>rating</th>\n",
       "    </tr>\n",
       "  </thead>\n",
       "  <tbody>\n",
       "    <tr>\n",
       "      <th>0</th>\n",
       "      <td>Madras Meal Company</td>\n",
       "      <td>True</td>\n",
       "      <td>False</td>\n",
       "      <td>400</td>\n",
       "      <td>Banashankari</td>\n",
       "      <td>Casual Dining, Takeaway, Delivery</td>\n",
       "      <td>South Indian, Chettinad</td>\n",
       "      <td>400.0</td>\n",
       "      <td>Buffet</td>\n",
       "      <td>Banashankari</td>\n",
       "      <td>4.0</td>\n",
       "    </tr>\n",
       "    <tr>\n",
       "      <th>1</th>\n",
       "      <td>Dwarkamai</td>\n",
       "      <td>True</td>\n",
       "      <td>False</td>\n",
       "      <td>291</td>\n",
       "      <td>Banashankari</td>\n",
       "      <td>Casual Dining</td>\n",
       "      <td>South Indian, Chinese, Street Food</td>\n",
       "      <td>690.0</td>\n",
       "      <td>Buffet</td>\n",
       "      <td>Banashankari</td>\n",
       "      <td>3.7</td>\n",
       "    </tr>\n",
       "    <tr>\n",
       "      <th>2</th>\n",
       "      <td>Great Indian Khichdi</td>\n",
       "      <td>True</td>\n",
       "      <td>True</td>\n",
       "      <td>1279</td>\n",
       "      <td>J P Nagar</td>\n",
       "      <td>Casual Dining, Delivery</td>\n",
       "      <td>North Indian, Healthy Food</td>\n",
       "      <td>420.0</td>\n",
       "      <td>Buffet</td>\n",
       "      <td>J P Nagar</td>\n",
       "      <td>4.2</td>\n",
       "    </tr>\n",
       "    <tr>\n",
       "      <th>3</th>\n",
       "      <td>Shiv Sagar Signature</td>\n",
       "      <td>False</td>\n",
       "      <td>False</td>\n",
       "      <td>705</td>\n",
       "      <td>J P Nagar</td>\n",
       "      <td>Casual Dining</td>\n",
       "      <td>South Indian, Fast Food, Chinese</td>\n",
       "      <td>239.0</td>\n",
       "      <td>Buffet</td>\n",
       "      <td>J P Nagar</td>\n",
       "      <td>4.0</td>\n",
       "    </tr>\n",
       "    <tr>\n",
       "      <th>4</th>\n",
       "      <td>Vesuvio</td>\n",
       "      <td>False</td>\n",
       "      <td>True</td>\n",
       "      <td>200</td>\n",
       "      <td>Bannerghatta Road</td>\n",
       "      <td>Fine Dining</td>\n",
       "      <td>Italian</td>\n",
       "      <td>1000.0</td>\n",
       "      <td>Dine-out</td>\n",
       "      <td>Bannerghatta Road</td>\n",
       "      <td>4.0</td>\n",
       "    </tr>\n",
       "    <tr>\n",
       "      <th>5</th>\n",
       "      <td>Lombard</td>\n",
       "      <td>False</td>\n",
       "      <td>True</td>\n",
       "      <td>35</td>\n",
       "      <td>Jayanagar</td>\n",
       "      <td>Casual Dining</td>\n",
       "      <td>Italian, Spanish</td>\n",
       "      <td>900.0</td>\n",
       "      <td>Buffet</td>\n",
       "      <td>Jayanagar</td>\n",
       "      <td>3.2</td>\n",
       "    </tr>\n",
       "    <tr>\n",
       "      <th>6</th>\n",
       "      <td>Xi Jumping!</td>\n",
       "      <td>True</td>\n",
       "      <td>True</td>\n",
       "      <td>69</td>\n",
       "      <td>Banashankari</td>\n",
       "      <td>Casual Dining, Takeaway, Delivery</td>\n",
       "      <td>Chinese, Fast Food</td>\n",
       "      <td>200.0</td>\n",
       "      <td>Buffet</td>\n",
       "      <td>Banashankari</td>\n",
       "      <td>3.5</td>\n",
       "    </tr>\n",
       "    <tr>\n",
       "      <th>7</th>\n",
       "      <td>Andhra Gunpowder</td>\n",
       "      <td>True</td>\n",
       "      <td>True</td>\n",
       "      <td>975</td>\n",
       "      <td>Indiranagar</td>\n",
       "      <td>Casual Dining, Takeaway, Delivery</td>\n",
       "      <td>Andhra</td>\n",
       "      <td>400.0</td>\n",
       "      <td>Buffet</td>\n",
       "      <td>Banashankari</td>\n",
       "      <td>3.9</td>\n",
       "    </tr>\n",
       "    <tr>\n",
       "      <th>8</th>\n",
       "      <td>Punjabi Nawabi</td>\n",
       "      <td>True</td>\n",
       "      <td>False</td>\n",
       "      <td>99</td>\n",
       "      <td>Indiranagar</td>\n",
       "      <td>Casual Dining, Delivery</td>\n",
       "      <td>North Indian, Mughlai, Biryani</td>\n",
       "      <td>300.0</td>\n",
       "      <td>Buffet</td>\n",
       "      <td>Banashankari</td>\n",
       "      <td>3.8</td>\n",
       "    </tr>\n",
       "    <tr>\n",
       "      <th>9</th>\n",
       "      <td>Lo! - Low Carb and Keto Foods</td>\n",
       "      <td>True</td>\n",
       "      <td>False</td>\n",
       "      <td>333</td>\n",
       "      <td>Domlur</td>\n",
       "      <td>Takeaway, Delivery</td>\n",
       "      <td>Rolls, American, Healthy Food</td>\n",
       "      <td>400.0</td>\n",
       "      <td>Delivery</td>\n",
       "      <td>Indiranagar</td>\n",
       "      <td>4.2</td>\n",
       "    </tr>\n",
       "  </tbody>\n",
       "</table>\n",
       "</div>"
      ],
      "text/plain": [
       "                            name  online_order  book_table  votes  \\\n",
       "0            Madras Meal Company          True       False    400   \n",
       "1                     Dwarkamai           True       False    291   \n",
       "2           Great Indian Khichdi          True        True   1279   \n",
       "3           Shiv Sagar Signature         False       False    705   \n",
       "4                        Vesuvio         False        True    200   \n",
       "5                       Lombard          False        True     35   \n",
       "6                    Xi Jumping!          True        True     69   \n",
       "7               Andhra Gunpowder          True        True    975   \n",
       "8                 Punjabi Nawabi          True       False     99   \n",
       "9  Lo! - Low Carb and Keto Foods          True       False    333   \n",
       "\n",
       "            location                          rest_type  \\\n",
       "0       Banashankari  Casual Dining, Takeaway, Delivery   \n",
       "1       Banashankari                      Casual Dining   \n",
       "2          J P Nagar            Casual Dining, Delivery   \n",
       "3          J P Nagar                      Casual Dining   \n",
       "4  Bannerghatta Road                        Fine Dining   \n",
       "5          Jayanagar                      Casual Dining   \n",
       "6       Banashankari  Casual Dining, Takeaway, Delivery   \n",
       "7        Indiranagar  Casual Dining, Takeaway, Delivery   \n",
       "8        Indiranagar            Casual Dining, Delivery   \n",
       "9             Domlur                 Takeaway, Delivery   \n",
       "\n",
       "                             cuisines    cost      type               city  \\\n",
       "0             South Indian, Chettinad   400.0    Buffet       Banashankari   \n",
       "1  South Indian, Chinese, Street Food   690.0    Buffet       Banashankari   \n",
       "2          North Indian, Healthy Food   420.0    Buffet          J P Nagar   \n",
       "3    South Indian, Fast Food, Chinese   239.0    Buffet          J P Nagar   \n",
       "4                             Italian  1000.0  Dine-out  Bannerghatta Road   \n",
       "5                    Italian, Spanish   900.0    Buffet          Jayanagar   \n",
       "6                  Chinese, Fast Food   200.0    Buffet       Banashankari   \n",
       "7                              Andhra   400.0    Buffet       Banashankari   \n",
       "8      North Indian, Mughlai, Biryani   300.0    Buffet       Banashankari   \n",
       "9       Rolls, American, Healthy Food   400.0  Delivery        Indiranagar   \n",
       "\n",
       "   rating  \n",
       "0     4.0  \n",
       "1     3.7  \n",
       "2     4.2  \n",
       "3     4.0  \n",
       "4     4.0  \n",
       "5     3.2  \n",
       "6     3.5  \n",
       "7     3.9  \n",
       "8     3.8  \n",
       "9     4.2  "
      ]
     },
     "execution_count": 33,
     "metadata": {},
     "output_type": "execute_result"
    }
   ],
   "source": [
    "df_new[\"rating\"] = y_pred_list\n",
    "df_new"
   ]
  },
  {
   "cell_type": "code",
   "execution_count": 34,
   "id": "3cbf7e8a",
   "metadata": {
    "execution": {
     "iopub.execute_input": "2021-12-05T05:23:29.878141Z",
     "iopub.status.busy": "2021-12-05T05:23:29.875861Z",
     "iopub.status.idle": "2021-12-05T05:23:29.884420Z",
     "shell.execute_reply": "2021-12-05T05:23:29.883796Z",
     "shell.execute_reply.started": "2021-12-04T16:04:45.503877Z"
    },
    "papermill": {
     "duration": 0.073273,
     "end_time": "2021-12-05T05:23:29.884640",
     "exception": false,
     "start_time": "2021-12-05T05:23:29.811367",
     "status": "completed"
    },
    "tags": []
   },
   "outputs": [],
   "source": [
    "df_new.to_csv(\"../working/zomato_predicted_ratings.csv\", index = False)"
   ]
  },
  {
   "cell_type": "markdown",
   "id": "20e1c7f4",
   "metadata": {
    "papermill": {
     "duration": 0.061174,
     "end_time": "2021-12-05T05:23:30.006408",
     "exception": false,
     "start_time": "2021-12-05T05:23:29.945234",
     "status": "completed"
    },
    "tags": []
   },
   "source": [
    "# **Conclusions**\n",
    "\n",
    "We have successfully trained and built multiple models on the dataset. We also found that the XGBoost regressor works incredibly well for this data. This analysis shows that once the model has been trained and tested on the data, we can actually predict the ratings for new restaurants as well with the independent variables being available to us."
   ]
  }
 ],
 "metadata": {
  "kernelspec": {
   "display_name": "Python 3",
   "language": "python",
   "name": "python3"
  },
  "language_info": {
   "codemirror_mode": {
    "name": "ipython",
    "version": 3
   },
   "file_extension": ".py",
   "mimetype": "text/x-python",
   "name": "python",
   "nbconvert_exporter": "python",
   "pygments_lexer": "ipython3",
   "version": "3.7.12"
  },
  "papermill": {
   "default_parameters": {},
   "duration": 83.063004,
   "end_time": "2021-12-05T05:23:31.080547",
   "environment_variables": {},
   "exception": null,
   "input_path": "__notebook__.ipynb",
   "output_path": "__notebook__.ipynb",
   "parameters": {},
   "start_time": "2021-12-05T05:22:08.017543",
   "version": "2.3.3"
  }
 },
 "nbformat": 4,
 "nbformat_minor": 5
}
